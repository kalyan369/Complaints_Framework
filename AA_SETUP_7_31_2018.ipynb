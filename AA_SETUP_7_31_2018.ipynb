{
  "nbformat": 4,
  "nbformat_minor": 0,
  "metadata": {
    "colab": {
      "name": "AA_SETUP_7_31_2018.ipynb",
      "version": "0.3.2",
      "provenance": [],
      "collapsed_sections": [],
      "include_colab_link": true
    },
    "kernelspec": {
      "name": "python3",
      "display_name": "Python 3"
    },
    "accelerator": "GPU"
  },
  "cells": [
    {
      "cell_type": "markdown",
      "metadata": {
        "id": "view-in-github",
        "colab_type": "text"
      },
      "source": [
        "[View in Colaboratory](https://colab.research.google.com/github/kalyanpichuka/Complaints_Framework/blob/master/AA_SETUP_7_31_2018.ipynb)"
      ]
    },
    {
      "metadata": {
        "id": "oLvS23ICg1wt",
        "colab_type": "code",
        "colab": {}
      },
      "cell_type": "code",
      "source": [
        "# Useful Links for seting up Google Colaboratory\n",
        "# https://medium.com/deep-learning-turkey/google-colab-free-gpu-tutorial-e113627b9f5d\n",
        "# https://towardsdatascience.com/fast-ai-lesson-1-on-google-colab-free-gpu-d2af89f53604\n",
        "# https://github.com/mixuala/colab_utils"
      ],
      "execution_count": 0,
      "outputs": []
    },
    {
      "metadata": {
        "id": "PlGY4p5fhFBq",
        "colab_type": "text"
      },
      "cell_type": "markdown",
      "source": [
        ""
      ]
    },
    {
      "metadata": {
        "id": "apGVp4BBfW4d",
        "colab_type": "code",
        "colab": {}
      },
      "cell_type": "code",
      "source": [
        "!apt-get install -y -qq software-properties-common python-software-properties module-init-tools\n",
        "!add-apt-repository -y ppa:alessandro-strada/ppa 2>&1 > /dev/null\n",
        "!apt-get update -qq 2>&1 > /dev/null\n",
        "!apt-get -y install -qq google-drive-ocamlfuse fuse\n",
        "from google.colab import auth\n",
        "auth.authenticate_user()\n",
        "from oauth2client.client import GoogleCredentials\n",
        "creds = GoogleCredentials.get_application_default()\n",
        "import getpass\n",
        "!google-drive-ocamlfuse -headless -id={creds.client_id} -secret={creds.client_secret} < /dev/null 2>&1 | grep URL\n",
        "vcode = getpass.getpass()\n",
        "!echo {vcode} | google-drive-ocamlfuse -headless -id={creds.client_id} -secret={creds.client_secret}"
      ],
      "execution_count": 0,
      "outputs": []
    },
    {
      "metadata": {
        "id": "LuaMZ9zugEze",
        "colab_type": "code",
        "colab": {}
      },
      "cell_type": "code",
      "source": [
        "!mkdir -p drive\n",
        "!google-drive-ocamlfuse drive"
      ],
      "execution_count": 0,
      "outputs": []
    },
    {
      "metadata": {
        "id": "01V3oNajhW-8",
        "colab_type": "code",
        "colab": {
          "base_uri": "https://localhost:8080/",
          "height": 119
        },
        "outputId": "0922cbca-ec2f-4752-d66a-c95b8aca31d7"
      },
      "cell_type": "code",
      "source": [
        "# INSTALLING KERAS\n",
        "!pip install keras"
      ],
      "execution_count": 0,
      "outputs": [
        {
          "output_type": "stream",
          "text": [
            "Requirement already satisfied: keras in /usr/local/lib/python3.6/dist-packages (2.1.6)\n",
            "Requirement already satisfied: scipy>=0.14 in /usr/local/lib/python3.6/dist-packages (from keras) (0.19.1)\n",
            "Requirement already satisfied: h5py in /usr/local/lib/python3.6/dist-packages (from keras) (2.8.0)\n",
            "Requirement already satisfied: six>=1.9.0 in /usr/local/lib/python3.6/dist-packages (from keras) (1.11.0)\n",
            "Requirement already satisfied: numpy>=1.9.1 in /usr/local/lib/python3.6/dist-packages (from keras) (1.14.5)\n",
            "Requirement already satisfied: pyyaml in /usr/local/lib/python3.6/dist-packages (from keras) (3.13)\n"
          ],
          "name": "stdout"
        }
      ]
    },
    {
      "metadata": {
        "id": "MWIqcb5Vhadq",
        "colab_type": "code",
        "colab": {
          "base_uri": "https://localhost:8080/",
          "height": 34
        },
        "outputId": "af1b5f5b-a9a6-401d-da04-82af2e40a584"
      },
      "cell_type": "code",
      "source": [
        "import keras"
      ],
      "execution_count": 0,
      "outputs": [
        {
          "output_type": "stream",
          "text": [
            "Using TensorFlow backend.\n"
          ],
          "name": "stderr"
        }
      ]
    },
    {
      "metadata": {
        "id": "hqzJpRp4hg-F",
        "colab_type": "code",
        "colab": {
          "base_uri": "https://localhost:8080/",
          "height": 51
        },
        "outputId": "e005efa2-1985-4bcb-88f3-18bc4e36fd98"
      },
      "cell_type": "code",
      "source": [
        "# INSTALLING PYTORCH\n",
        "# http://pytorch.org/\n",
        "from os import path\n",
        "from wheel.pep425tags import get_abbr_impl, get_impl_ver, get_abi_tag\n",
        "platform = '{}{}-{}'.format(get_abbr_impl(), get_impl_ver(), get_abi_tag())\n",
        "\n",
        "accelerator = 'cu80' if path.exists('/opt/bin/nvidia-smi') else 'cpu'\n",
        "\n",
        "!pip install -q http://download.pytorch.org/whl/{accelerator}/torch-0.3.0.post4-{platform}-linux_x86_64.whl torchvision\n",
        "import torch"
      ],
      "execution_count": 0,
      "outputs": [
        {
          "output_type": "stream",
          "text": [
            "\u001b[33mYou are using pip version 10.0.1, however version 18.0 is available.\r\n",
            "You should consider upgrading via the 'pip install --upgrade pip' command.\u001b[0m\r\n"
          ],
          "name": "stdout"
        }
      ]
    },
    {
      "metadata": {
        "id": "Tf8o9DL3iI1A",
        "colab_type": "code",
        "colab": {
          "base_uri": "https://localhost:8080/",
          "height": 564
        },
        "outputId": "e318e2b8-8a51-43ce-9cf8-017bf7814341"
      },
      "cell_type": "code",
      "source": [
        "# INSTALLING MXNET\n",
        "!apt install libnvrtc8.0\n",
        "!pip install mxnet-cu80\n"
      ],
      "execution_count": 0,
      "outputs": [
        {
          "output_type": "stream",
          "text": [
            "Reading package lists... Done\n",
            "Building dependency tree       \n",
            "Reading state information... Done\n",
            "The following NEW packages will be installed:\n",
            "  libnvrtc8.0\n",
            "0 upgraded, 1 newly installed, 0 to remove and 5 not upgraded.\n",
            "Need to get 6,225 kB of archives.\n",
            "After this operation, 28.3 MB of additional disk space will be used.\n",
            "Get:1 http://archive.ubuntu.com/ubuntu artful/multiverse amd64 libnvrtc8.0 amd64 8.0.61-1 [6,225 kB]\n",
            "Fetched 6,225 kB in 0s (36.0 MB/s)\n",
            "\n",
            "\u001b7\u001b[0;23r\u001b8\u001b[1ASelecting previously unselected package libnvrtc8.0:amd64.\n",
            "(Reading database ... 19833 files and directories currently installed.)\n",
            "Preparing to unpack .../libnvrtc8.0_8.0.61-1_amd64.deb ...\n",
            "\u001b7\u001b[24;0f\u001b[42m\u001b[30mProgress: [  0%]\u001b[49m\u001b[39m [..........................................................] \u001b8\u001b7\u001b[24;0f\u001b[42m\u001b[30mProgress: [ 16%]\u001b[49m\u001b[39m [#########.................................................] \u001b8Unpacking libnvrtc8.0:amd64 (8.0.61-1) ...\n",
            "\u001b7\u001b[24;0f\u001b[42m\u001b[30mProgress: [ 33%]\u001b[49m\u001b[39m [###################.......................................] \u001b8\u001b7\u001b[24;0f\u001b[42m\u001b[30mProgress: [ 50%]\u001b[49m\u001b[39m [#############################.............................] \u001b8Setting up libnvrtc8.0:amd64 (8.0.61-1) ...\n",
            "\u001b7\u001b[24;0f\u001b[42m\u001b[30mProgress: [ 66%]\u001b[49m\u001b[39m [######################################....................] \u001b8\u001b7\u001b[24;0f\u001b[42m\u001b[30mProgress: [ 83%]\u001b[49m\u001b[39m [################################################..........] \u001b8Processing triggers for libc-bin (2.26-0ubuntu2.1) ...\n",
            "\n",
            "\u001b7\u001b[0;24r\u001b8\u001b[1A\u001b[JCollecting mxnet-cu80\n",
            "\u001b[?25l  Downloading https://files.pythonhosted.org/packages/f6/6c/566a1d4b8b1005b7d9ccfaecd7632f6dca596246f6657827b2d4e97c72c7/mxnet_cu80-1.2.1-py2.py3-none-manylinux1_x86_64.whl (299.1MB)\n",
            "\u001b[K    43% |█████████████▉                  | 129.1MB 34.4MB/s eta 0:00:05"
          ],
          "name": "stdout"
        },
        {
          "output_type": "stream",
          "text": [
            "\u001b[K    100% |████████████████████████████████| 299.1MB 73kB/s \n",
            "\u001b[?25hCollecting graphviz<0.9.0,>=0.8.1 (from mxnet-cu80)\n",
            "  Downloading https://files.pythonhosted.org/packages/53/39/4ab213673844e0c004bed8a0781a0721a3f6bb23eb8854ee75c236428892/graphviz-0.8.4-py2.py3-none-any.whl\n",
            "Requirement already satisfied: numpy<1.15.0,>=1.8.2 in /usr/local/lib/python3.6/dist-packages (from mxnet-cu80) (1.14.5)\n",
            "Requirement already satisfied: requests<2.19.0,>=2.18.4 in /usr/local/lib/python3.6/dist-packages (from mxnet-cu80) (2.18.4)\n",
            "Requirement already satisfied: chardet<3.1.0,>=3.0.2 in /usr/local/lib/python3.6/dist-packages (from requests<2.19.0,>=2.18.4->mxnet-cu80) (3.0.4)\n",
            "Requirement already satisfied: certifi>=2017.4.17 in /usr/local/lib/python3.6/dist-packages (from requests<2.19.0,>=2.18.4->mxnet-cu80) (2018.4.16)\n",
            "Requirement already satisfied: urllib3<1.23,>=1.21.1 in /usr/local/lib/python3.6/dist-packages (from requests<2.19.0,>=2.18.4->mxnet-cu80) (1.22)\n",
            "Requirement already satisfied: idna<2.7,>=2.5 in /usr/local/lib/python3.6/dist-packages (from requests<2.19.0,>=2.18.4->mxnet-cu80) (2.6)\n",
            "Installing collected packages: graphviz, mxnet-cu80\n",
            "Successfully installed graphviz-0.8.4 mxnet-cu80-1.2.1\n"
          ],
          "name": "stdout"
        }
      ]
    },
    {
      "metadata": {
        "id": "bGU48RBojs1r",
        "colab_type": "code",
        "colab": {}
      },
      "cell_type": "code",
      "source": [
        "import mxnet as mx"
      ],
      "execution_count": 0,
      "outputs": []
    },
    {
      "metadata": {
        "id": "AWMN7q0lj6ji",
        "colab_type": "code",
        "colab": {}
      },
      "cell_type": "code",
      "source": [
        "# INSTALLING OPENCV\n",
        "!apt-get -qq install -y libsm6 libxext6 && pip install -q -U opencv-python"
      ],
      "execution_count": 0,
      "outputs": []
    },
    {
      "metadata": {
        "id": "XDVxheQwkErj",
        "colab_type": "code",
        "colab": {}
      },
      "cell_type": "code",
      "source": [
        "import cv2"
      ],
      "execution_count": 0,
      "outputs": []
    },
    {
      "metadata": {
        "id": "QNX2Kn8YkIxY",
        "colab_type": "code",
        "colab": {}
      },
      "cell_type": "code",
      "source": [
        "!pip install -q xgboost==0.4a30\n",
        "import xgboost"
      ],
      "execution_count": 0,
      "outputs": []
    },
    {
      "metadata": {
        "id": "YRWF4oS_kK65",
        "colab_type": "code",
        "colab": {
          "base_uri": "https://localhost:8080/",
          "height": 1989
        },
        "outputId": "b8f965e8-ed23-4cd2-f3cf-51930f504ef9"
      },
      "cell_type": "code",
      "source": [
        "!apt-get -qq install -y graphviz && pip install -q pydot\n"
      ],
      "execution_count": 0,
      "outputs": [
        {
          "output_type": "stream",
          "text": [
            "Selecting previously unselected package fontconfig.\n",
            "(Reading database ... 19842 files and directories currently installed.)\n",
            "Preparing to unpack .../00-fontconfig_2.11.94-0ubuntu2_amd64.deb ...\n",
            "Unpacking fontconfig (2.11.94-0ubuntu2) ...\n",
            "Selecting previously unselected package libjbig0:amd64.\n",
            "Preparing to unpack .../01-libjbig0_2.1-3.1_amd64.deb ...\n",
            "Unpacking libjbig0:amd64 (2.1-3.1) ...\n",
            "Selecting previously unselected package libcdt5.\n",
            "Preparing to unpack .../02-libcdt5_2.38.0-16ubuntu2_amd64.deb ...\n",
            "Unpacking libcdt5 (2.38.0-16ubuntu2) ...\n",
            "Selecting previously unselected package libcgraph6.\n",
            "Preparing to unpack .../03-libcgraph6_2.38.0-16ubuntu2_amd64.deb ...\n",
            "Unpacking libcgraph6 (2.38.0-16ubuntu2) ...\n",
            "Selecting previously unselected package libtiff5:amd64.\n",
            "Preparing to unpack .../04-libtiff5_4.0.8-5ubuntu0.1_amd64.deb ...\n",
            "Unpacking libtiff5:amd64 (4.0.8-5ubuntu0.1) ...\n",
            "Selecting previously unselected package libwebp6:amd64.\n",
            "Preparing to unpack .../05-libwebp6_0.6.0-3_amd64.deb ...\n",
            "Unpacking libwebp6:amd64 (0.6.0-3) ...\n",
            "Selecting previously unselected package libxpm4:amd64.\n",
            "Preparing to unpack .../06-libxpm4_1%3a3.5.12-1_amd64.deb ...\n",
            "Unpacking libxpm4:amd64 (1:3.5.12-1) ...\n",
            "Selecting previously unselected package libgd3:amd64.\n",
            "Preparing to unpack .../07-libgd3_2.2.5-3_amd64.deb ...\n",
            "Unpacking libgd3:amd64 (2.2.5-3) ...\n",
            "Selecting previously unselected package libpixman-1-0:amd64.\n",
            "Preparing to unpack .../08-libpixman-1-0_0.34.0-1_amd64.deb ...\n",
            "Unpacking libpixman-1-0:amd64 (0.34.0-1) ...\n",
            "Selecting previously unselected package libxcb-render0:amd64.\n",
            "Preparing to unpack .../09-libxcb-render0_1.12-1ubuntu1_amd64.deb ...\n",
            "Unpacking libxcb-render0:amd64 (1.12-1ubuntu1) ...\n",
            "Selecting previously unselected package libxcb-shm0:amd64.\n",
            "Preparing to unpack .../10-libxcb-shm0_1.12-1ubuntu1_amd64.deb ...\n",
            "Unpacking libxcb-shm0:amd64 (1.12-1ubuntu1) ...\n",
            "Selecting previously unselected package libcairo2:amd64.\n",
            "Preparing to unpack .../11-libcairo2_1.14.10-1ubuntu1_amd64.deb ...\n",
            "Unpacking libcairo2:amd64 (1.14.10-1ubuntu1) ...\n",
            "Selecting previously unselected package libltdl7:amd64.\n",
            "Preparing to unpack .../12-libltdl7_2.4.6-2_amd64.deb ...\n",
            "Unpacking libltdl7:amd64 (2.4.6-2) ...\n",
            "Selecting previously unselected package libthai-data.\n",
            "Preparing to unpack .../13-libthai-data_0.1.26-3_all.deb ...\n",
            "Unpacking libthai-data (0.1.26-3) ...\n",
            "Selecting previously unselected package libdatrie1:amd64.\n",
            "Preparing to unpack .../14-libdatrie1_0.2.10-5_amd64.deb ...\n",
            "Unpacking libdatrie1:amd64 (0.2.10-5) ...\n",
            "Selecting previously unselected package libthai0:amd64.\n",
            "Preparing to unpack .../15-libthai0_0.1.26-3_amd64.deb ...\n",
            "Unpacking libthai0:amd64 (0.1.26-3) ...\n",
            "Selecting previously unselected package libpango-1.0-0:amd64.\n",
            "Preparing to unpack .../16-libpango-1.0-0_1.40.12-1_amd64.deb ...\n",
            "Unpacking libpango-1.0-0:amd64 (1.40.12-1) ...\n",
            "Selecting previously unselected package libgraphite2-3:amd64.\n",
            "Preparing to unpack .../17-libgraphite2-3_1.3.10-2_amd64.deb ...\n",
            "Unpacking libgraphite2-3:amd64 (1.3.10-2) ...\n",
            "Selecting previously unselected package libharfbuzz0b:amd64.\n",
            "Preparing to unpack .../18-libharfbuzz0b_1.4.2-1_amd64.deb ...\n",
            "Unpacking libharfbuzz0b:amd64 (1.4.2-1) ...\n",
            "Selecting previously unselected package libpangoft2-1.0-0:amd64.\n",
            "Preparing to unpack .../19-libpangoft2-1.0-0_1.40.12-1_amd64.deb ...\n",
            "Unpacking libpangoft2-1.0-0:amd64 (1.40.12-1) ...\n",
            "Selecting previously unselected package libpangocairo-1.0-0:amd64.\n",
            "Preparing to unpack .../20-libpangocairo-1.0-0_1.40.12-1_amd64.deb ...\n",
            "Unpacking libpangocairo-1.0-0:amd64 (1.40.12-1) ...\n",
            "Selecting previously unselected package libpathplan4.\n",
            "Preparing to unpack .../21-libpathplan4_2.38.0-16ubuntu2_amd64.deb ...\n",
            "Unpacking libpathplan4 (2.38.0-16ubuntu2) ...\n",
            "Selecting previously unselected package libgvc6.\n",
            "Preparing to unpack .../22-libgvc6_2.38.0-16ubuntu2_amd64.deb ...\n",
            "Unpacking libgvc6 (2.38.0-16ubuntu2) ...\n",
            "Selecting previously unselected package libgvpr2.\n",
            "Preparing to unpack .../23-libgvpr2_2.38.0-16ubuntu2_amd64.deb ...\n",
            "Unpacking libgvpr2 (2.38.0-16ubuntu2) ...\n",
            "Selecting previously unselected package libxt6:amd64.\n",
            "Preparing to unpack .../24-libxt6_1%3a1.1.5-1_amd64.deb ...\n",
            "Unpacking libxt6:amd64 (1:1.1.5-1) ...\n",
            "Selecting previously unselected package libxmu6:amd64.\n",
            "Preparing to unpack .../25-libxmu6_2%3a1.1.2-2_amd64.deb ...\n",
            "Unpacking libxmu6:amd64 (2:1.1.2-2) ...\n",
            "Selecting previously unselected package libxaw7:amd64.\n",
            "Preparing to unpack .../26-libxaw7_2%3a1.0.13-1_amd64.deb ...\n",
            "Unpacking libxaw7:amd64 (2:1.0.13-1) ...\n",
            "Selecting previously unselected package graphviz.\n",
            "Preparing to unpack .../27-graphviz_2.38.0-16ubuntu2_amd64.deb ...\n",
            "Unpacking graphviz (2.38.0-16ubuntu2) ...\n",
            "Setting up libpathplan4 (2.38.0-16ubuntu2) ...\n",
            "Setting up libxcb-render0:amd64 (1.12-1ubuntu1) ...\n",
            "Setting up libjbig0:amd64 (2.1-3.1) ...\n",
            "Setting up libdatrie1:amd64 (0.2.10-5) ...\n",
            "Setting up libtiff5:amd64 (4.0.8-5ubuntu0.1) ...\n",
            "Setting up libgraphite2-3:amd64 (1.3.10-2) ...\n",
            "Setting up libpixman-1-0:amd64 (0.34.0-1) ...\n"
          ],
          "name": "stdout"
        },
        {
          "output_type": "stream",
          "text": [
            "Processing triggers for libc-bin (2.26-0ubuntu2.1) ...\r\n",
            "Setting up libltdl7:amd64 (2.4.6-2) ...\n",
            "Setting up libxcb-shm0:amd64 (1.12-1ubuntu1) ...\n",
            "Setting up libxpm4:amd64 (1:3.5.12-1) ...\n",
            "Setting up libxt6:amd64 (1:1.1.5-1) ...\n",
            "Setting up libthai-data (0.1.26-3) ...\n",
            "Setting up libcdt5 (2.38.0-16ubuntu2) ...\n",
            "Setting up fontconfig (2.11.94-0ubuntu2) ...\n",
            "Regenerating fonts cache... done.\n",
            "Setting up libcgraph6 (2.38.0-16ubuntu2) ...\n",
            "Setting up libwebp6:amd64 (0.6.0-3) ...\n",
            "Setting up libcairo2:amd64 (1.14.10-1ubuntu1) ...\n",
            "Setting up libgvpr2 (2.38.0-16ubuntu2) ...\n",
            "Setting up libgd3:amd64 (2.2.5-3) ...\n",
            "Setting up libharfbuzz0b:amd64 (1.4.2-1) ...\n",
            "Setting up libthai0:amd64 (0.1.26-3) ...\n",
            "Setting up libxmu6:amd64 (2:1.1.2-2) ...\n",
            "Setting up libpango-1.0-0:amd64 (1.40.12-1) ...\n",
            "Setting up libxaw7:amd64 (2:1.0.13-1) ...\n",
            "Setting up libpangoft2-1.0-0:amd64 (1.40.12-1) ...\n",
            "Setting up libpangocairo-1.0-0:amd64 (1.40.12-1) ...\n",
            "Setting up libgvc6 (2.38.0-16ubuntu2) ...\n",
            "Setting up graphviz (2.38.0-16ubuntu2) ...\n",
            "Processing triggers for libc-bin (2.26-0ubuntu2.1) ...\n"
          ],
          "name": "stdout"
        }
      ]
    },
    {
      "metadata": {
        "id": "FwFPHAkvke8M",
        "colab_type": "code",
        "colab": {}
      },
      "cell_type": "code",
      "source": [
        "import pydot"
      ],
      "execution_count": 0,
      "outputs": []
    },
    {
      "metadata": {
        "id": "jTPW3GH7kkS6",
        "colab_type": "code",
        "colab": {
          "base_uri": "https://localhost:8080/",
          "height": 272
        },
        "outputId": "7c25d3d4-f2e6-496c-c549-48db09167009"
      },
      "cell_type": "code",
      "source": [
        "!apt-get -qq install -y libarchive-dev && pip install -q -U libarchive\n",
        "import libarchive"
      ],
      "execution_count": 0,
      "outputs": [
        {
          "output_type": "stream",
          "text": [
            "Selecting previously unselected package liblzo2-2:amd64.\r\n",
            "(Reading database ... \r(Reading database ... 5%\r(Reading database ... 10%\r(Reading database ... 15%\r(Reading database ... 20%\r(Reading database ... 25%\r(Reading database ... 30%\r(Reading database ... 35%\r(Reading database ... 40%\r(Reading database ... 45%\r(Reading database ... 50%\r(Reading database ... 55%\r(Reading database ... 60%\r(Reading database ... 65%\r(Reading database ... 70%\r(Reading database ... 75%\r(Reading database ... 80%\r(Reading database ... 85%\r(Reading database ... 90%\r(Reading database ... 95%\r(Reading database ... 100%\r(Reading database ... 20135 files and directories currently installed.)\r\n",
            "Preparing to unpack .../liblzo2-2_2.08-1.2_amd64.deb ...\r\n",
            "Unpacking liblzo2-2:amd64 (2.08-1.2) ...\n",
            "Selecting previously unselected package libarchive13:amd64.\n",
            "Preparing to unpack .../libarchive13_3.2.2-3.1_amd64.deb ...\n",
            "Unpacking libarchive13:amd64 (3.2.2-3.1) ...\n",
            "Selecting previously unselected package libarchive-dev:amd64.\n",
            "Preparing to unpack .../libarchive-dev_3.2.2-3.1_amd64.deb ...\n",
            "Unpacking libarchive-dev:amd64 (3.2.2-3.1) ...\n",
            "Processing triggers for libc-bin (2.26-0ubuntu2.1) ...\n",
            "Setting up liblzo2-2:amd64 (2.08-1.2) ...\n",
            "Setting up libarchive13:amd64 (3.2.2-3.1) ...\n",
            "Setting up libarchive-dev:amd64 (3.2.2-3.1) ...\n",
            "Processing triggers for libc-bin (2.26-0ubuntu2.1) ...\n"
          ],
          "name": "stdout"
        }
      ]
    },
    {
      "metadata": {
        "id": "JUFPCh_Tkppv",
        "colab_type": "code",
        "colab": {
          "base_uri": "https://localhost:8080/",
          "height": 34
        },
        "outputId": "864b663f-2a19-4fc4-ef16-f8b1ffb8617d"
      },
      "cell_type": "code",
      "source": [
        "import tensorflow as tf\n",
        "tf.test.gpu_device_name()"
      ],
      "execution_count": 0,
      "outputs": [
        {
          "output_type": "execute_result",
          "data": {
            "text/plain": [
              "'/device:GPU:0'"
            ]
          },
          "metadata": {
            "tags": []
          },
          "execution_count": 16
        }
      ]
    },
    {
      "metadata": {
        "id": "5uGiD7qYkuZr",
        "colab_type": "code",
        "colab": {
          "base_uri": "https://localhost:8080/",
          "height": 34
        },
        "outputId": "87fa26e1-0286-41e5-fcee-7feccbfebe9d"
      },
      "cell_type": "code",
      "source": [
        "tf.test.gpu_device_name()"
      ],
      "execution_count": 0,
      "outputs": [
        {
          "output_type": "execute_result",
          "data": {
            "text/plain": [
              "'/device:GPU:0'"
            ]
          },
          "metadata": {
            "tags": []
          },
          "execution_count": 17
        }
      ]
    },
    {
      "metadata": {
        "id": "WqRAiiDNk1lg",
        "colab_type": "code",
        "colab": {
          "base_uri": "https://localhost:8080/",
          "height": 272
        },
        "outputId": "310116e5-3087-4f87-ad73-b872fb91dd23"
      },
      "cell_type": "code",
      "source": [
        "from tensorflow.python.client import device_lib\n",
        "device_lib.list_local_devices()"
      ],
      "execution_count": 0,
      "outputs": [
        {
          "output_type": "execute_result",
          "data": {
            "text/plain": [
              "[name: \"/device:CPU:0\"\n",
              " device_type: \"CPU\"\n",
              " memory_limit: 268435456\n",
              " locality {\n",
              " }\n",
              " incarnation: 11085084954883766562, name: \"/device:GPU:0\"\n",
              " device_type: \"GPU\"\n",
              " memory_limit: 11193332532\n",
              " locality {\n",
              "   bus_id: 1\n",
              "   links {\n",
              "   }\n",
              " }\n",
              " incarnation: 12597091996335421516\n",
              " physical_device_desc: \"device: 0, name: Tesla K80, pci bus id: 0000:00:04.0, compute capability: 3.7\"]"
            ]
          },
          "metadata": {
            "tags": []
          },
          "execution_count": 18
        }
      ]
    },
    {
      "metadata": {
        "id": "W-kzCovclCnA",
        "colab_type": "code",
        "colab": {
          "base_uri": "https://localhost:8080/",
          "height": 782
        },
        "outputId": "81a6be6d-a8ed-469a-bc86-b1a90f4a697c"
      },
      "cell_type": "code",
      "source": [
        "!cat /proc/meminfo"
      ],
      "execution_count": 0,
      "outputs": [
        {
          "output_type": "stream",
          "text": [
            "MemTotal:       13335192 kB\r\n",
            "MemFree:          160696 kB\r\n",
            "MemAvailable:   11294120 kB\r\n",
            "Buffers:          175068 kB\r\n",
            "Cached:         10799432 kB\r\n",
            "SwapCached:            0 kB\r\n",
            "Active:          1882460 kB\r\n",
            "Inactive:       10536480 kB\r\n",
            "Active(anon):    1417244 kB\r\n",
            "Inactive(anon):    77352 kB\r\n",
            "Active(file):     465216 kB\r\n",
            "Inactive(file): 10459128 kB\r\n",
            "Unevictable:           0 kB\r\n",
            "Mlocked:               0 kB\r\n",
            "SwapTotal:             0 kB\r\n",
            "SwapFree:              0 kB\r\n",
            "Dirty:               380 kB\r\n",
            "Writeback:             0 kB\r\n",
            "AnonPages:       1444476 kB\r\n",
            "Mapped:           536740 kB\r\n",
            "Shmem:            257952 kB\r\n",
            "Slab:             575536 kB\r\n",
            "SReclaimable:     535220 kB\r\n",
            "SUnreclaim:        40316 kB\r\n",
            "KernelStack:        3232 kB\r\n",
            "PageTables:         9064 kB\r\n",
            "NFS_Unstable:          0 kB\r\n",
            "Bounce:                0 kB\r\n",
            "WritebackTmp:          0 kB\r\n",
            "CommitLimit:     6667596 kB\r\n",
            "Committed_AS:    2952540 kB\r\n",
            "VmallocTotal:   34359738367 kB\r\n",
            "VmallocUsed:           0 kB\r\n",
            "VmallocChunk:          0 kB\r\n",
            "AnonHugePages:         0 kB\r\n",
            "ShmemHugePages:        0 kB\r\n",
            "ShmemPmdMapped:        0 kB\r\n",
            "HugePages_Total:       0\r\n",
            "HugePages_Free:        0\r\n",
            "HugePages_Rsvd:        0\r\n",
            "HugePages_Surp:        0\r\n",
            "Hugepagesize:       2048 kB\r\n",
            "DirectMap4k:      176076 kB\r\n",
            "DirectMap2M:     7163904 kB\r\n",
            "DirectMap1G:     8388608 kB\r\n"
          ],
          "name": "stdout"
        }
      ]
    },
    {
      "metadata": {
        "id": "SG6iXwqolJdu",
        "colab_type": "code",
        "colab": {
          "base_uri": "https://localhost:8080/",
          "height": 955
        },
        "outputId": "f2090163-cde4-4e82-86f9-6f433733e95a"
      },
      "cell_type": "code",
      "source": [
        "!cat /proc/cpuinfo"
      ],
      "execution_count": 0,
      "outputs": [
        {
          "output_type": "stream",
          "text": [
            "processor\t: 0\r\n",
            "vendor_id\t: GenuineIntel\r\n",
            "cpu family\t: 6\r\n",
            "model\t\t: 63\r\n",
            "model name\t: Intel(R) Xeon(R) CPU @ 2.30GHz\r\n",
            "stepping\t: 0\r\n",
            "microcode\t: 0x1\r\n",
            "cpu MHz\t\t: 2300.000\r\n",
            "cache size\t: 46080 KB\r\n",
            "physical id\t: 0\r\n",
            "siblings\t: 2\r\n",
            "core id\t\t: 0\r\n",
            "cpu cores\t: 1\r\n",
            "apicid\t\t: 0\r\n",
            "initial apicid\t: 0\r\n",
            "fpu\t\t: yes\r\n",
            "fpu_exception\t: yes\r\n",
            "cpuid level\t: 13\r\n",
            "wp\t\t: yes\r\n",
            "flags\t\t: fpu vme de pse tsc msr pae mce cx8 apic sep mtrr pge mca cmov pat pse36 clflush mmx fxsr sse sse2 ss ht syscall nx pdpe1gb rdtscp lm constant_tsc rep_good nopl xtopology nonstop_tsc cpuid pni pclmulqdq ssse3 fma cx16 sse4_1 sse4_2 x2apic movbe popcnt aes xsave avx f16c rdrand hypervisor lahf_lm abm pti fsgsbase tsc_adjust bmi1 avx2 smep bmi2 erms xsaveopt\r\n",
            "bugs\t\t: cpu_meltdown spectre_v1 spectre_v2\r\n",
            "bogomips\t: 4600.00\r\n",
            "clflush size\t: 64\r\n",
            "cache_alignment\t: 64\r\n",
            "address sizes\t: 46 bits physical, 48 bits virtual\r\n",
            "power management:\r\n",
            "\r\n",
            "processor\t: 1\r\n",
            "vendor_id\t: GenuineIntel\r\n",
            "cpu family\t: 6\r\n",
            "model\t\t: 63\r\n",
            "model name\t: Intel(R) Xeon(R) CPU @ 2.30GHz\r\n",
            "stepping\t: 0\r\n",
            "microcode\t: 0x1\r\n",
            "cpu MHz\t\t: 2300.000\r\n",
            "cache size\t: 46080 KB\r\n",
            "physical id\t: 0\r\n",
            "siblings\t: 2\r\n",
            "core id\t\t: 0\r\n",
            "cpu cores\t: 1\r\n",
            "apicid\t\t: 1\r\n",
            "initial apicid\t: 1\r\n",
            "fpu\t\t: yes\r\n",
            "fpu_exception\t: yes\r\n",
            "cpuid level\t: 13\r\n",
            "wp\t\t: yes\r\n",
            "flags\t\t: fpu vme de pse tsc msr pae mce cx8 apic sep mtrr pge mca cmov pat pse36 clflush mmx fxsr sse sse2 ss ht syscall nx pdpe1gb rdtscp lm constant_tsc rep_good nopl xtopology nonstop_tsc cpuid pni pclmulqdq ssse3 fma cx16 sse4_1 sse4_2 x2apic movbe popcnt aes xsave avx f16c rdrand hypervisor lahf_lm abm pti fsgsbase tsc_adjust bmi1 avx2 smep bmi2 erms xsaveopt\r\n",
            "bugs\t\t: cpu_meltdown spectre_v1 spectre_v2\r\n",
            "bogomips\t: 4600.00\r\n",
            "clflush size\t: 64\r\n",
            "cache_alignment\t: 64\r\n",
            "address sizes\t: 46 bits physical, 48 bits virtual\r\n",
            "power management:\r\n",
            "\r\n"
          ],
          "name": "stdout"
        }
      ]
    },
    {
      "metadata": {
        "id": "q7I3agkUlR_F",
        "colab_type": "code",
        "colab": {}
      },
      "cell_type": "code",
      "source": [
        "import os"
      ],
      "execution_count": 0,
      "outputs": []
    },
    {
      "metadata": {
        "id": "YdkJX4rrldBZ",
        "colab_type": "code",
        "colab": {
          "base_uri": "https://localhost:8080/",
          "height": 34
        },
        "outputId": "41bef9f8-aef2-427d-fe37-a37ccdf3ac91"
      },
      "cell_type": "code",
      "source": [
        "print(os.getcwd())"
      ],
      "execution_count": 0,
      "outputs": [
        {
          "output_type": "stream",
          "text": [
            "/content\n"
          ],
          "name": "stdout"
        }
      ]
    },
    {
      "metadata": {
        "id": "HjfFvLSele8i",
        "colab_type": "code",
        "colab": {
          "base_uri": "https://localhost:8080/",
          "height": 68
        },
        "outputId": "663df0fe-ed37-4452-992c-713e26fc9cc5"
      },
      "cell_type": "code",
      "source": [
        "!ls -lrt\n"
      ],
      "execution_count": 0,
      "outputs": [
        {
          "output_type": "stream",
          "text": [
            "total 12\r\n",
            "drwxr-xr-x 1 root root 4096 Jul 17 13:50 datalab\r\n",
            "drwxr-xr-x 2 root root 4096 Jul 17 13:54 drive\r\n"
          ],
          "name": "stdout"
        }
      ]
    },
    {
      "metadata": {
        "id": "RNfQOVccls_T",
        "colab_type": "code",
        "colab": {
          "base_uri": "https://localhost:8080/",
          "height": 527
        },
        "outputId": "3503670f-acb9-42d6-d1f3-21ff193e48ee"
      },
      "cell_type": "code",
      "source": [
        "!pip install prince"
      ],
      "execution_count": 0,
      "outputs": [
        {
          "output_type": "stream",
          "text": [
            "Collecting prince\n",
            "  Downloading https://files.pythonhosted.org/packages/9f/c2/3f17e7e9df4cafbfb463c8393b3356ce4e9d1e404dc642dbf174c40c9e42/prince-0.4.1-py2.py3-none-any.whl\n",
            "Collecting matplotlib>=2.2.2 (from prince)\n",
            "\u001b[?25l  Downloading https://files.pythonhosted.org/packages/49/b8/89dbd27f2fb171ce753bb56220d4d4f6dbc5fe32b95d8edc4415782ef07f/matplotlib-2.2.2-cp36-cp36m-manylinux1_x86_64.whl (12.6MB)\n",
            "\u001b[K    100% |████████████████████████████████| 12.6MB 2.2MB/s \n",
            "\u001b[?25hCollecting scipy>=1.0.1 (from prince)\n",
            "\u001b[?25l  Downloading https://files.pythonhosted.org/packages/a8/0b/f163da98d3a01b3e0ef1cab8dd2123c34aee2bafbb1c5bffa354cc8a1730/scipy-1.1.0-cp36-cp36m-manylinux1_x86_64.whl (31.2MB)\n",
            "\u001b[K    100% |████████████████████████████████| 31.2MB 1.1MB/s \n",
            "\u001b[?25hRequirement already satisfied: pandas>=0.22.0 in /usr/local/lib/python3.6/dist-packages (from prince) (0.22.0)\n",
            "Requirement already satisfied: scikit-learn>=0.19.1 in /usr/local/lib/python3.6/dist-packages (from prince) (0.19.2)\n",
            "Requirement already satisfied: numpy>=1.14.0 in /usr/local/lib/python3.6/dist-packages (from prince) (1.14.5)\n",
            "Collecting kiwisolver>=1.0.1 (from matplotlib>=2.2.2->prince)\n",
            "\u001b[?25l  Downloading https://files.pythonhosted.org/packages/69/a7/88719d132b18300b4369fbffa741841cfd36d1e637e1990f27929945b538/kiwisolver-1.0.1-cp36-cp36m-manylinux1_x86_64.whl (949kB)\n",
            "\u001b[K    100% |████████████████████████████████| 952kB 12.2MB/s \n",
            "\u001b[?25hRequirement already satisfied: pyparsing!=2.0.4,!=2.1.2,!=2.1.6,>=2.0.1 in /usr/local/lib/python3.6/dist-packages (from matplotlib>=2.2.2->prince) (2.2.0)\n",
            "Requirement already satisfied: pytz in /usr/local/lib/python3.6/dist-packages (from matplotlib>=2.2.2->prince) (2018.5)\n",
            "Requirement already satisfied: cycler>=0.10 in /usr/local/lib/python3.6/dist-packages (from matplotlib>=2.2.2->prince) (0.10.0)\n",
            "Requirement already satisfied: python-dateutil>=2.1 in /usr/local/lib/python3.6/dist-packages (from matplotlib>=2.2.2->prince) (2.5.3)\n",
            "Requirement already satisfied: six>=1.10 in /usr/local/lib/python3.6/dist-packages (from matplotlib>=2.2.2->prince) (1.11.0)\n",
            "Requirement already satisfied: setuptools in /usr/local/lib/python3.6/dist-packages (from kiwisolver>=1.0.1->matplotlib>=2.2.2->prince) (39.1.0)\n",
            "Installing collected packages: kiwisolver, matplotlib, scipy, prince\n",
            "  Found existing installation: matplotlib 2.1.2\n",
            "    Uninstalling matplotlib-2.1.2:\n",
            "      Successfully uninstalled matplotlib-2.1.2\n",
            "  Found existing installation: scipy 0.19.1\n",
            "    Uninstalling scipy-0.19.1:\n",
            "      Successfully uninstalled scipy-0.19.1\n",
            "Successfully installed kiwisolver-1.0.1 matplotlib-2.2.2 prince-0.4.1 scipy-1.1.0\n",
            "\u001b[33mYou are using pip version 10.0.1, however version 18.0 is available.\n",
            "You should consider upgrading via the 'pip install --upgrade pip' command.\u001b[0m\n"
          ],
          "name": "stdout"
        }
      ]
    },
    {
      "metadata": {
        "id": "a7wy9T1cdNbE",
        "colab_type": "code",
        "colab": {
          "base_uri": "https://localhost:8080/",
          "height": 153
        },
        "outputId": "ddb8777d-b78e-4ea5-ac68-c60d90af8fc7"
      },
      "cell_type": "code",
      "source": [
        "!pip install --upgrade pip"
      ],
      "execution_count": 0,
      "outputs": [
        {
          "output_type": "stream",
          "text": [
            "Collecting pip\n",
            "\u001b[?25l  Downloading https://files.pythonhosted.org/packages/5f/25/e52d3f31441505a5f3af41213346e5b6c221c9e086a166f3703d2ddaf940/pip-18.0-py2.py3-none-any.whl (1.3MB)\n",
            "\u001b[K    100% |████████████████████████████████| 1.3MB 7.5MB/s \n",
            "\u001b[?25hInstalling collected packages: pip\n",
            "  Found existing installation: pip 10.0.1\n",
            "    Uninstalling pip-10.0.1:\n",
            "      Successfully uninstalled pip-10.0.1\n",
            "Successfully installed pip-18.0\n"
          ],
          "name": "stdout"
        }
      ]
    },
    {
      "metadata": {
        "id": "whHHpsLLdvDg",
        "colab_type": "code",
        "colab": {
          "base_uri": "https://localhost:8080/",
          "height": 51
        },
        "outputId": "aa15afdf-7a50-4953-f3ea-577f1f068ab1"
      },
      "cell_type": "code",
      "source": [
        "!ls -lrt"
      ],
      "execution_count": 0,
      "outputs": [
        {
          "output_type": "stream",
          "text": [
            "total 4\r\n",
            "drwxr-xr-x 3 root root 4096 Jul 19 16:53 datalab\r\n"
          ],
          "name": "stdout"
        }
      ]
    },
    {
      "metadata": {
        "id": "O4mQB74eeJI3",
        "colab_type": "code",
        "colab": {}
      },
      "cell_type": "code",
      "source": [
        "!cd datalab"
      ],
      "execution_count": 0,
      "outputs": []
    },
    {
      "metadata": {
        "id": "5vgGwNEIeOPo",
        "colab_type": "code",
        "colab": {
          "base_uri": "https://localhost:8080/",
          "height": 51
        },
        "outputId": "1ccd9b35-71f6-42cc-977c-87e2a3c2555f"
      },
      "cell_type": "code",
      "source": [
        "ls -lrt"
      ],
      "execution_count": 0,
      "outputs": [
        {
          "output_type": "stream",
          "text": [
            "total 4\r\n",
            "drwxr-xr-x 3 root root 4096 Jul 19 16:53 \u001b[0m\u001b[01;34mdatalab\u001b[0m/\r\n"
          ],
          "name": "stdout"
        }
      ]
    },
    {
      "metadata": {
        "id": "iH0EgplYeP9z",
        "colab_type": "code",
        "colab": {
          "base_uri": "https://localhost:8080/",
          "height": 11852
        },
        "outputId": "299efb0d-a4e4-42fc-fe00-6f45ddf2c9dd"
      },
      "cell_type": "code",
      "source": [
        "#CAFFE INSTALLATION\n",
        "!apt install -y caffe-cuda"
      ],
      "execution_count": 0,
      "outputs": [
        {
          "output_type": "stream",
          "text": [
            "Reading package lists... Done\n",
            "Building dependency tree       \n",
            "Reading state information... Done\n",
            "The following additional packages will be installed:\n",
            "  caffe-tools-cuda cython3 fonts-lyx gdal-data javascript-common libarmadillo7\n",
            "  libarpack2 libblosc1 libboost-python1.62.0 libboost-system1.62.0\n",
            "  libboost-thread1.62.0 libcaffe-cuda1 libdap25 libdapclient6v5 libepsilon1\n",
            "  libfreexl1 libfyba0 libgdal20 libgeos-3.5.1 libgeos-c1v5 libgeotiff2\n",
            "  libgflags2.2 libgif7 libgoogle-glog0v5 libhdf4-0-alt libilmbase12 libjbig0\n",
            "  libjs-jquery libjs-jquery-ui libjson-c3 libkmlbase1 libkmldom1 libkmlengine1\n",
            "  liblcms2-2 libleveldb1v5 liblmdb0 libltdl7 liblzo2-2 libminizip1\n",
            "  libmysqlclient20 libnetcdf11 libnspr4 libnss3 libodbc1 libogdi3.2\n",
            "  libopencv-core3.1 libopencv-imgcodecs3.1 libopencv-imgproc3.1 libopenexr22\n",
            "  libopenjp2-7 libpoppler68 libpq5 libproj12 libprotobuf10 libqhull7\n",
            "  libsnappy1v5 libspatialite7 libsuperlu5 libtbb2 libtiff5 liburiparser1\n",
            "  libwebp6 libwebpmux3 libxerces-c3.1 libxslt1.1 libyaml-0-2 libzstd1\n",
            "  mysql-common odbcinst odbcinst1debian2 poppler-data proj-bin proj-data\n",
            "  python-matplotlib-data python-pexpect python-ptyprocess python-tables-data\n",
            "  python3-bs4 python3-caffe-cuda python3-chardet python3-cycler\n",
            "  python3-dateutil python3-decorator python3-gflags python3-h5py\n",
            "  python3-html5lib python3-ipython python3-ipython-genutils python3-leveldb\n",
            "  python3-lxml python3-matplotlib python3-networkx python3-nose\n",
            "  python3-numexpr python3-numpy python3-olefile python3-pandas\n",
            "  python3-pandas-lib python3-pexpect python3-pickleshare python3-pil\n",
            "  python3-pkg-resources python3-prompt-toolkit python3-protobuf\n",
            "  python3-ptyprocess python3-pygments python3-pyparsing python3-pywt\n",
            "  python3-scipy python3-simplegeneric python3-six python3-skimage\n",
            "  python3-skimage-lib python3-tables python3-tables-lib python3-traitlets\n",
            "  python3-tz python3-wcwidth python3-webencodings python3-yaml\n",
            "  ttf-bitstream-vera\n",
            "Suggested packages:\n",
            "  libcaffe-cuda-dev caffe-doc cython-doc apache2 | lighttpd | httpd\n",
            "  geotiff-bin gdal-bin libgeotiff-epsg libhdf4-doc libhdf4-alt-dev hdf4-tools\n",
            "  libjs-jquery-ui-docs liblcms2-utils libmyodbc odbc-postgresql tdsodbc\n",
            "  unixodbc-bin ogdi-bin poppler-utils ghostscript fonts-japanese-mincho\n",
            "  | fonts-ipafont-mincho fonts-japanese-gothic | fonts-ipafont-gothic\n",
            "  fonts-arphic-ukai fonts-arphic-uming fonts-nanum python-pexpect-doc\n",
            "  python-cycler-doc python-h5py-doc python3-genshi python3-lxml-dbg\n",
            "  python-lxml-doc dvipng ffmpeg gir1.2-gtk-3.0 inkscape ipython3\n",
            "  librsvg2-common python-matplotlib-doc python3-cairocffi python3-gi\n",
            "  python3-gi-cairo python3-gobject python3-pyqt4 python3-sip python3-tornado\n",
            "  texlive-extra-utils texlive-latex-extra ttf-staypuft python-nose-doc\n",
            "  python-numpy-doc python3-numpy-dbg python-pandas-doc python-pil-doc\n",
            "  python3-pil-dbg python3-setuptools python-pyparsing-doc python-scipy-doc\n",
            "  python-skimage-doc python-tables-doc python-netcdf vitables\n",
            "The following NEW packages will be installed:\n",
            "  caffe-cuda caffe-tools-cuda cython3 fonts-lyx gdal-data javascript-common\n",
            "  libarmadillo7 libarpack2 libblosc1 libboost-python1.62.0\n",
            "  libboost-system1.62.0 libboost-thread1.62.0 libcaffe-cuda1 libdap25\n",
            "  libdapclient6v5 libepsilon1 libfreexl1 libfyba0 libgdal20 libgeos-3.5.1\n",
            "  libgeos-c1v5 libgeotiff2 libgflags2.2 libgif7 libgoogle-glog0v5\n",
            "  libhdf4-0-alt libilmbase12 libjbig0 libjs-jquery libjs-jquery-ui libjson-c3\n",
            "  libkmlbase1 libkmldom1 libkmlengine1 liblcms2-2 libleveldb1v5 liblmdb0\n",
            "  libltdl7 liblzo2-2 libminizip1 libmysqlclient20 libnetcdf11 libnspr4 libnss3\n",
            "  libodbc1 libogdi3.2 libopencv-core3.1 libopencv-imgcodecs3.1\n",
            "  libopencv-imgproc3.1 libopenexr22 libopenjp2-7 libpoppler68 libpq5 libproj12\n",
            "  libprotobuf10 libqhull7 libsnappy1v5 libspatialite7 libsuperlu5 libtbb2\n",
            "  libtiff5 liburiparser1 libwebp6 libwebpmux3 libxerces-c3.1 libxslt1.1\n",
            "  libyaml-0-2 libzstd1 mysql-common odbcinst odbcinst1debian2 poppler-data\n",
            "  proj-bin proj-data python-matplotlib-data python-pexpect python-ptyprocess\n",
            "  python-tables-data python3-bs4 python3-caffe-cuda python3-chardet\n",
            "  python3-cycler python3-dateutil python3-decorator python3-gflags\n",
            "  python3-h5py python3-html5lib python3-ipython python3-ipython-genutils\n",
            "  python3-leveldb python3-lxml python3-matplotlib python3-networkx\n",
            "  python3-nose python3-numexpr python3-numpy python3-olefile python3-pandas\n",
            "  python3-pandas-lib python3-pexpect python3-pickleshare python3-pil\n",
            "  python3-pkg-resources python3-prompt-toolkit python3-protobuf\n",
            "  python3-ptyprocess python3-pygments python3-pyparsing python3-pywt\n",
            "  python3-scipy python3-simplegeneric python3-six python3-skimage\n",
            "  python3-skimage-lib python3-tables python3-tables-lib python3-traitlets\n",
            "  python3-tz python3-wcwidth python3-webencodings python3-yaml\n",
            "  ttf-bitstream-vera\n",
            "0 upgraded, 122 newly installed, 0 to remove and 0 not upgraded.\n",
            "Need to get 77.6 MB of archives.\n",
            "After this operation, 292 MB of additional disk space will be used.\n",
            "Get:1 http://archive.ubuntu.com/ubuntu artful/main amd64 liblzo2-2 amd64 2.08-1.2 [48.7 kB]\n",
            "Get:2 http://archive.ubuntu.com/ubuntu artful/main amd64 poppler-data all 0.4.8-1 [1,476 kB]\n",
            "Get:3 http://archive.ubuntu.com/ubuntu artful/main amd64 libjbig0 amd64 2.1-3.1 [26.6 kB]\n",
            "Get:4 http://archive.ubuntu.com/ubuntu artful/main amd64 libjson-c3 amd64 0.12.1-1.2 [21.5 kB]\n",
            "Get:5 http://archive.ubuntu.com/ubuntu artful/main amd64 libyaml-0-2 amd64 0.1.7-2ubuntu3 [47.2 kB]\n",
            "Get:6 http://archive.ubuntu.com/ubuntu artful/main amd64 python3-yaml amd64 3.12-1build2 [109 kB]\n",
            "Get:7 http://archive.ubuntu.com/ubuntu artful/main amd64 libboost-python1.62.0 amd64 1.62.0+dfsg-4build3 [113 kB]\n",
            "Get:8 http://archive.ubuntu.com/ubuntu artful/main amd64 libboost-system1.62.0 amd64 1.62.0+dfsg-4build3 [9,212 B]\n",
            "Get:9 http://archive.ubuntu.com/ubuntu artful/main amd64 libboost-thread1.62.0 amd64 1.62.0+dfsg-4build3 [47.3 kB]\n",
            "Get:10 http://archive.ubuntu.com/ubuntu artful/universe amd64 libgflags2.2 amd64 2.2.1-1 [72.4 kB]\n",
            "Get:11 http://archive.ubuntu.com/ubuntu artful/universe amd64 libgoogle-glog0v5 amd64 0.3.5-1 [50.5 kB]\n",
            "Get:12 http://archive.ubuntu.com/ubuntu artful/main amd64 libsnappy1v5 amd64 1.1.6-4 [16.0 kB]\n",
            "Get:13 http://archive.ubuntu.com/ubuntu artful/main amd64 libleveldb1v5 amd64 1.20-1 [136 kB]\n",
            "Get:14 http://archive.ubuntu.com/ubuntu artful/universe amd64 liblmdb0 amd64 0.9.21-1 [43.6 kB]\n",
            "Get:15 http://archive.ubuntu.com/ubuntu artful/universe amd64 libtbb2 amd64 2017~U7-6 [112 kB]\n",
            "Get:16 http://archive.ubuntu.com/ubuntu artful/universe amd64 libopencv-core3.1 amd64 3.1.0+dfsg1-1~exp1ubuntu3 [698 kB]\n",
            "Get:17 http://archive.ubuntu.com/ubuntu artful/universe amd64 libopencv-imgproc3.1 amd64 3.1.0+dfsg1-1~exp1ubuntu3 [778 kB]\n",
            "Get:18 http://archive.ubuntu.com/ubuntu artful/universe amd64 gdal-data all 2.2.1+dfsg-2build3 [363 kB]\n",
            "Get:19 http://archive.ubuntu.com/ubuntu artful/universe amd64 libarpack2 amd64 3.5.0+real-1 [89.7 kB]\n",
            "Get:20 http://archive.ubuntu.com/ubuntu artful/universe amd64 libsuperlu5 amd64 5.2.1+dfsg1-2 [158 kB]\n",
            "Get:21 http://archive.ubuntu.com/ubuntu artful/universe amd64 libarmadillo7 amd64 1:7.960.1+dfsg-1 [78.1 kB]\n",
            "Get:22 http://archive.ubuntu.com/ubuntu artful/universe amd64 libdap25 amd64 3.19.0-1 [435 kB]\n",
            "Get:23 http://archive.ubuntu.com/ubuntu artful/universe amd64 libdapclient6v5 amd64 3.19.0-1 [94.1 kB]\n",
            "Get:24 http://archive.ubuntu.com/ubuntu artful/universe amd64 libepsilon1 amd64 0.9.2+dfsg-2 [41.2 kB]\n",
            "Get:25 http://archive.ubuntu.com/ubuntu artful/universe amd64 libfreexl1 amd64 1.0.3-1 [33.5 kB]\n",
            "Get:26 http://archive.ubuntu.com/ubuntu artful/universe amd64 libfyba0 amd64 4.1.1-3 [110 kB]\n",
            "Get:27 http://archive.ubuntu.com/ubuntu artful/universe amd64 libgeos-3.5.1 amd64 3.5.1-3 [474 kB]\n",
            "Get:28 http://archive.ubuntu.com/ubuntu artful/universe amd64 libgeos-c1v5 amd64 3.5.1-3 [51.6 kB]\n",
            "Get:29 http://archive.ubuntu.com/ubuntu artful/universe amd64 proj-data all 4.9.3-2 [4,020 kB]\n",
            "11% [29 proj-data 26.0 kB/4,020 kB 1%]\u001b[0m"
          ],
          "name": "stdout"
        },
        {
          "output_type": "stream",
          "text": [
            "\u001b[33m\r                                      \r15% [Working]\u001b[0m\r             \rGet:30 http://archive.ubuntu.com/ubuntu artful/universe amd64 libproj12 amd64 4.9.3-2 [159 kB]\r\n",
            "\u001b[33m\r15% [30 libproj12 0 B/159 kB 0%]\u001b[0m\u001b[33m\r                                \r15% [Working]\u001b[0m\r             \rGet:31 http://archive.ubuntu.com/ubuntu artful-updates/main amd64 libtiff5 amd64 4.0.8-5ubuntu0.1 [150 kB]\r\n",
            "\u001b[33m\r15% [31 libtiff5 0 B/150 kB 0%]\u001b[0m\u001b[33m\r                               \r15% [Working]\u001b[0m\r             \rGet:32 http://archive.ubuntu.com/ubuntu artful/universe amd64 libgeotiff2 amd64 1.4.2-2build1 [58.5 kB]\r\n",
            "\u001b[33m\r15% [32 libgeotiff2 0 B/58.5 kB 0%]\u001b[0m\u001b[33m\r                                   \r16% [Working]\u001b[0m\r             \rGet:33 http://archive.ubuntu.com/ubuntu artful/main amd64 libgif7 amd64 5.1.4-1 [30.7 kB]\r\n",
            "\u001b[33m\r16% [33 libgif7 0 B/30.7 kB 0%]\u001b[0m\u001b[33m\r                               \r16% [Waiting for headers]\u001b[0m\r                         \rGet:34 http://archive.ubuntu.com/ubuntu artful/universe amd64 libhdf4-0-alt amd64 4.2.13-1 [269 kB]\r\n",
            "\u001b[33m\r16% [34 libhdf4-0-alt 61.5 kB/269 kB 23%]\u001b[0m\u001b[33m\r                                         \r16% [Working]\u001b[0m\r             \rGet:35 http://archive.ubuntu.com/ubuntu artful/universe amd64 libminizip1 amd64 1.1-8 [20.3 kB]\r\n",
            "\u001b[33m\r16% [35 libminizip1 4,096 B/20.3 kB 20%]\u001b[0m\u001b[33m\r                                        \r17% [Working]\u001b[0m\r             \rGet:36 http://archive.ubuntu.com/ubuntu artful/universe amd64 liburiparser1 amd64 0.8.4-1 [38.0 kB]\r\n",
            "Get:37 http://archive.ubuntu.com/ubuntu artful/universe amd64 libkmlbase1 amd64 1.3.0-4 [44.4 kB]\n",
            "Get:38 http://archive.ubuntu.com/ubuntu artful/universe amd64 libkmldom1 amd64 1.3.0-4 [171 kB]\n",
            "Get:39 http://archive.ubuntu.com/ubuntu artful/universe amd64 libkmlengine1 amd64 1.3.0-4 [73.8 kB]\n",
            "Get:40 http://archive.ubuntu.com/ubuntu artful/main amd64 mysql-common all 5.8+1.0.2ubuntu1 [5,782 B]\n",
            "Get:41 http://archive.ubuntu.com/ubuntu artful-updates/main amd64 libmysqlclient20 amd64 5.7.22-0ubuntu0.17.10.1 [815 kB]\n",
            "Get:42 http://archive.ubuntu.com/ubuntu artful/universe amd64 libnetcdf11 amd64 1:4.4.1.1-2ubuntu1 [292 kB]\n",
            "Get:43 http://archive.ubuntu.com/ubuntu artful/main amd64 libltdl7 amd64 2.4.6-2 [38.8 kB]\n",
            "Get:44 http://archive.ubuntu.com/ubuntu artful/main amd64 libodbc1 amd64 2.3.4-1 [183 kB]\n",
            "Get:45 http://archive.ubuntu.com/ubuntu artful/universe amd64 libogdi3.2 amd64 3.2.0+ds-2 [213 kB]\n",
            "Get:46 http://archive.ubuntu.com/ubuntu artful/universe amd64 libopenjp2-7 amd64 2.2.0-1 [133 kB]\n",
            "Get:47 http://archive.ubuntu.com/ubuntu artful/main amd64 liblcms2-2 amd64 2.7-1ubuntu1 [137 kB]\n",
            "Get:48 http://archive.ubuntu.com/ubuntu artful/main amd64 libnspr4 amd64 2:4.16-1ubuntu2 [112 kB]\n",
            "Get:49 http://archive.ubuntu.com/ubuntu artful/main amd64 libnss3 amd64 2:3.32-1ubuntu3 [1,141 kB]\n",
            "Get:50 http://archive.ubuntu.com/ubuntu artful-updates/main amd64 libpoppler68 amd64 0.57.0-2ubuntu4.3 [787 kB]\n",
            "Get:51 http://archive.ubuntu.com/ubuntu artful-updates/main amd64 libpq5 amd64 9.6.9-0ubuntu0.17.10 [81.0 kB]\n",
            "Get:52 http://archive.ubuntu.com/ubuntu artful/universe amd64 libqhull7 amd64 2015.2-2 [151 kB]\n",
            "Get:53 http://archive.ubuntu.com/ubuntu artful/universe amd64 libspatialite7 amd64 4.3.0a-5build1 [1,224 kB]\n",
            "Get:54 http://archive.ubuntu.com/ubuntu artful/main amd64 libwebp6 amd64 0.6.0-3 [181 kB]\n",
            "Get:55 http://archive.ubuntu.com/ubuntu artful/universe amd64 libxerces-c3.1 amd64 3.1.4+debian-2 [839 kB]\n",
            "Get:56 http://archive.ubuntu.com/ubuntu artful/main amd64 odbcinst amd64 2.3.4-1 [12.8 kB]\n",
            "Get:57 http://archive.ubuntu.com/ubuntu artful/main amd64 odbcinst1debian2 amd64 2.3.4-1 [41.2 kB]\n",
            "Get:58 http://archive.ubuntu.com/ubuntu artful/universe amd64 libgdal20 amd64 2.2.1+dfsg-2build3 [5,100 kB]\n",
            "Get:59 http://archive.ubuntu.com/ubuntu artful/main amd64 libilmbase12 amd64 2.2.0-11ubuntu2 [71.4 kB]\n",
            "Get:60 http://archive.ubuntu.com/ubuntu artful/main amd64 libopenexr22 amd64 2.2.0-11ubuntu1 [552 kB]\n",
            "Get:61 http://archive.ubuntu.com/ubuntu artful/universe amd64 libopencv-imgcodecs3.1 amd64 3.1.0+dfsg1-1~exp1ubuntu3 [70.9 kB]\n",
            "Get:62 http://archive.ubuntu.com/ubuntu artful/main amd64 libprotobuf10 amd64 3.0.0-9ubuntu5 [650 kB]\n",
            "Get:63 http://archive.ubuntu.com/ubuntu artful/multiverse amd64 libcaffe-cuda1 amd64 1.0.0-3build1 [1,510 kB]\n",
            "Get:64 http://archive.ubuntu.com/ubuntu artful/multiverse amd64 caffe-tools-cuda amd64 1.0.0-3build1 [88.2 kB]\n",
            "Get:65 http://archive.ubuntu.com/ubuntu artful/universe amd64 cython3 amd64 0.25.2-2build3 [1,823 kB]\n",
            "Get:66 http://archive.ubuntu.com/ubuntu artful/main amd64 python3-six all 1.10.0-4 [10.8 kB]\n",
            "Get:67 http://archive.ubuntu.com/ubuntu artful/universe amd64 python3-dateutil all 2.6.0-1 [51.5 kB]\n",
            "Get:68 http://archive.ubuntu.com/ubuntu artful/universe amd64 python3-gflags all 1.5.1-3 [35.4 kB]\n",
            "Get:69 http://archive.ubuntu.com/ubuntu artful/main amd64 python3-numpy amd64 1:1.12.1-3.1ubuntu4 [1,893 kB]\n",
            "Get:70 http://archive.ubuntu.com/ubuntu artful/universe amd64 python3-h5py amd64 2.7.1-2 [631 kB]\n",
            "Get:71 http://archive.ubuntu.com/ubuntu artful/universe amd64 python3-decorator all 4.1.1-1 [9,264 B]\n",
            "Get:72 http://archive.ubuntu.com/ubuntu artful/main amd64 python3-ptyprocess all 0.5.2-1 [12.7 kB]\n",
            "Get:73 http://archive.ubuntu.com/ubuntu artful/main amd64 python3-pexpect all 4.2.1-1 [42.4 kB]\n",
            "Get:74 http://archive.ubuntu.com/ubuntu artful/universe amd64 python3-pickleshare all 0.7.4-2 [6,904 B]\n",
            "Get:75 http://archive.ubuntu.com/ubuntu artful/main amd64 python3-pkg-resources all 36.2.7-2 [98.7 kB]\n",
            "Get:76 http://archive.ubuntu.com/ubuntu artful/universe amd64 python3-wcwidth all 0.1.7+dfsg1-1 [14.7 kB]\n",
            "Get:77 http://archive.ubuntu.com/ubuntu artful/universe amd64 python3-prompt-toolkit all 1.0.14-1 [163 kB]\n",
            "Get:78 http://archive.ubuntu.com/ubuntu artful/main amd64 python3-pygments all 2.2.0+dfsg-1 [574 kB]\n",
            "Get:79 http://archive.ubuntu.com/ubuntu artful/universe amd64 python3-simplegeneric all 0.8.1-1 [11.5 kB]\n",
            "Get:80 http://archive.ubuntu.com/ubuntu artful/universe amd64 python3-ipython-genutils all 0.2.0-1 [20.9 kB]\n",
            "Get:81 http://archive.ubuntu.com/ubuntu artful/universe amd64 python3-traitlets all 4.3.2-1 [59.1 kB]\n",
            "Get:82 http://archive.ubuntu.com/ubuntu artful/universe amd64 python-ptyprocess all 0.5.2-1 [12.6 kB]\n",
            "Get:83 http://archive.ubuntu.com/ubuntu artful/universe amd64 python-pexpect all 4.2.1-1 [41.7 kB]\n",
            "Get:84 http://archive.ubuntu.com/ubuntu artful/universe amd64 python3-ipython all 5.1.0-3 [375 kB]\n",
            "Get:85 http://archive.ubuntu.com/ubuntu artful/universe amd64 python3-leveldb amd64 0~svn68-3build3 [18.3 kB]\n",
            "Get:86 http://archive.ubuntu.com/ubuntu artful/universe amd64 fonts-lyx all 2.2.3-1 [155 kB]\n",
            "Get:87 http://archive.ubuntu.com/ubuntu artful/universe amd64 ttf-bitstream-vera all 1.10-8 [352 kB]\n",
            "Get:88 http://archive.ubuntu.com/ubuntu artful/universe amd64 python-matplotlib-data all 2.0.0+dfsg1-2ubuntu3 [3,990 kB]\n",
            "Get:89 http://archive.ubuntu.com/ubuntu artful/main amd64 python3-pyparsing all 2.1.10+dfsg1-1 [51.8 kB]\n",
            "Get:90 http://archive.ubuntu.com/ubuntu artful/main amd64 python3-tz all 2017.2-2 [25.1 kB]\n",
            "Get:91 http://archive.ubuntu.com/ubuntu artful/main amd64 libjs-jquery all 3.1.1-2 [151 kB]\n",
            "Get:92 http://archive.ubuntu.com/ubuntu artful/universe amd64 libjs-jquery-ui all 1.12.1+dfsg-5 [232 kB]\n",
            "Get:93 http://archive.ubuntu.com/ubuntu artful/universe amd64 python3-cycler all 0.10.0-1 [7,622 B]\n",
            "Get:94 http://archive.ubuntu.com/ubuntu artful/universe amd64 python3-matplotlib amd64 2.0.0+dfsg1-2ubuntu3 [1,491 kB]\n",
            "Get:95 http://archive.ubuntu.com/ubuntu artful/universe amd64 python3-networkx all 1.11-1ubuntu1 [608 kB]\n",
            "Get:96 http://archive.ubuntu.com/ubuntu artful/universe amd64 python3-nose all 1.3.7-2 [116 kB]\n",
            "Get:97 http://archive.ubuntu.com/ubuntu artful/universe amd64 python3-pandas-lib amd64 0.19.2-5.1ubuntu4 [2,156 kB]\n",
            "Get:98 http://archive.ubuntu.com/ubuntu artful/universe amd64 python3-pandas all 0.19.2-5.1ubuntu4 [2,605 kB]\n",
            "58% [98 python3-pandas 101 kB/2,605 kB 4%]\u001b[0m"
          ],
          "name": "stdout"
        },
        {
          "output_type": "stream",
          "text": [
            "\r                                          \rGet:99 http://archive.ubuntu.com/ubuntu artful/main amd64 python3-olefile all 0.44-1 [36.3 kB]\r\n",
            "\r                                          \rGet:100 http://archive.ubuntu.com/ubuntu artful/main amd64 libwebpmux3 amd64 0.6.0-3 [20.0 kB]\r\n",
            "Get:101 http://archive.ubuntu.com/ubuntu artful/main amd64 python3-pil amd64 4.1.1-3build2 [312 kB]\n",
            "Get:102 http://archive.ubuntu.com/ubuntu artful/universe amd64 python3-protobuf amd64 3.0.0-9ubuntu5 [263 kB]\n",
            "Get:103 http://archive.ubuntu.com/ubuntu artful/universe amd64 python3-scipy amd64 0.18.1-2ubuntu5 [8,519 kB]\n",
            "Get:104 http://archive.ubuntu.com/ubuntu artful/universe amd64 python3-skimage-lib amd64 0.13.0-0ubuntu4 [1,503 kB]\n",
            "Get:105 http://archive.ubuntu.com/ubuntu artful/universe amd64 python3-pywt amd64 0.5.1-1.1ubuntu4 [932 kB]\n",
            "Get:106 http://archive.ubuntu.com/ubuntu artful/universe amd64 python3-skimage all 0.13.0-0ubuntu4 [19.6 MB]\n",
            "Get:107 http://archive.ubuntu.com/ubuntu artful/multiverse amd64 python3-caffe-cuda amd64 1.0.0-3build1 [681 kB]\n",
            "Get:108 http://archive.ubuntu.com/ubuntu artful/multiverse amd64 caffe-cuda amd64 1.0.0-3build1 [4,480 B]\n",
            "Get:109 http://archive.ubuntu.com/ubuntu artful/main amd64 javascript-common all 11 [6,066 B]\n",
            "Get:110 http://archive.ubuntu.com/ubuntu artful-updates/universe amd64 libzstd1 amd64 1.3.1+dfsg-1ubuntu0.1 [152 kB]\n",
            "Get:111 http://archive.ubuntu.com/ubuntu artful/universe amd64 libblosc1 amd64 1.11.1+ds2-2 [31.7 kB]\n",
            "Get:112 http://archive.ubuntu.com/ubuntu artful/main amd64 libxslt1.1 amd64 1.1.29-2.1ubuntu1 [149 kB]\n",
            "Get:113 http://archive.ubuntu.com/ubuntu artful/universe amd64 python-tables-data all 3.3.0-5build4 [45.2 kB]\n",
            "Get:114 http://archive.ubuntu.com/ubuntu artful/main amd64 python3-bs4 all 4.6.0-1 [67.8 kB]\n",
            "Get:115 http://archive.ubuntu.com/ubuntu artful/main amd64 python3-chardet all 3.0.4-1 [80.3 kB]\n",
            "Get:116 http://archive.ubuntu.com/ubuntu artful/main amd64 python3-webencodings all 0.5-2 [10.4 kB]\n",
            "Get:117 http://archive.ubuntu.com/ubuntu artful/main amd64 python3-html5lib all 0.999999999-1 [81.9 kB]\n",
            "Get:118 http://archive.ubuntu.com/ubuntu artful/main amd64 python3-lxml amd64 4.0.0-1 [1,135 kB]\n",
            "Get:119 http://archive.ubuntu.com/ubuntu artful/universe amd64 python3-numexpr amd64 2.6.2-2 [119 kB]\n",
            "Get:120 http://archive.ubuntu.com/ubuntu artful/universe amd64 python3-tables-lib amd64 3.3.0-5build4 [390 kB]\n",
            "Get:121 http://archive.ubuntu.com/ubuntu artful/universe amd64 python3-tables all 3.3.0-5build4 [324 kB]\n",
            "Get:122 http://archive.ubuntu.com/ubuntu artful/universe amd64 proj-bin amd64 4.9.3-2 [32.3 kB]\n",
            "Fetched 77.6 MB in 10s (7,669 kB/s)\n",
            "Extracting templates from packages: 100%\n",
            "\n",
            "\u001b7\u001b[0;23r\u001b8\u001b[1ASelecting previously unselected package liblzo2-2:amd64.\n",
            "(Reading database ... 18396 files and directories currently installed.)\n",
            "Preparing to unpack .../000-liblzo2-2_2.08-1.2_amd64.deb ...\n",
            "\u001b7\u001b[24;0f\u001b[42m\u001b[30mProgress: [  0%]\u001b[49m\u001b[39m [..........................................................] \u001b8Unpacking liblzo2-2:amd64 (2.08-1.2) ...\n",
            "Selecting previously unselected package poppler-data.\n",
            "Preparing to unpack .../001-poppler-data_0.4.8-1_all.deb ...\n",
            "Unpacking poppler-data (0.4.8-1) ...\n",
            "Selecting previously unselected package libjbig0:amd64.\n",
            "Preparing to unpack .../002-libjbig0_2.1-3.1_amd64.deb ...\n",
            "\u001b7\u001b[24;0f\u001b[42m\u001b[30mProgress: [  1%]\u001b[49m\u001b[39m [..........................................................] \u001b8Unpacking libjbig0:amd64 (2.1-3.1) ...\n",
            "Selecting previously unselected package libjson-c3:amd64.\n",
            "Preparing to unpack .../003-libjson-c3_0.12.1-1.2_amd64.deb ...\n",
            "Unpacking libjson-c3:amd64 (0.12.1-1.2) ...\n",
            "Selecting previously unselected package libyaml-0-2:amd64.\n",
            "Preparing to unpack .../004-libyaml-0-2_0.1.7-2ubuntu3_amd64.deb ...\n",
            "\u001b7\u001b[24;0f\u001b[42m\u001b[30mProgress: [  2%]\u001b[49m\u001b[39m [#.........................................................] \u001b8Unpacking libyaml-0-2:amd64 (0.1.7-2ubuntu3) ...\n",
            "Selecting previously unselected package python3-yaml.\n",
            "Preparing to unpack .../005-python3-yaml_3.12-1build2_amd64.deb ...\n",
            "Unpacking python3-yaml (3.12-1build2) ...\n",
            "Selecting previously unselected package libboost-python1.62.0.\n",
            "Preparing to unpack .../006-libboost-python1.62.0_1.62.0+dfsg-4build3_amd64.deb ...\n",
            "\u001b7\u001b[24;0f\u001b[42m\u001b[30mProgress: [  3%]\u001b[49m\u001b[39m [#.........................................................] \u001b8Unpacking libboost-python1.62.0 (1.62.0+dfsg-4build3) ...\n"
          ],
          "name": "stdout"
        },
        {
          "output_type": "stream",
          "text": [
            "Selecting previously unselected package libboost-system1.62.0:amd64.\r\n",
            "Preparing to unpack .../007-libboost-system1.62.0_1.62.0+dfsg-4build3_amd64.deb ...\r\n",
            "Unpacking libboost-system1.62.0:amd64 (1.62.0+dfsg-4build3) ...\n",
            "Selecting previously unselected package libboost-thread1.62.0:amd64.\n",
            "Preparing to unpack .../008-libboost-thread1.62.0_1.62.0+dfsg-4build3_amd64.deb ...\n",
            "\u001b7\u001b[24;0f\u001b[42m\u001b[30mProgress: [  4%]\u001b[49m\u001b[39m [##........................................................] \u001b8Unpacking libboost-thread1.62.0:amd64 (1.62.0+dfsg-4build3) ...\n",
            "Selecting previously unselected package libgflags2.2.\n",
            "Preparing to unpack .../009-libgflags2.2_2.2.1-1_amd64.deb ...\n",
            "Unpacking libgflags2.2 (2.2.1-1) ...\n",
            "Selecting previously unselected package libgoogle-glog0v5.\n",
            "Preparing to unpack .../010-libgoogle-glog0v5_0.3.5-1_amd64.deb ...\n",
            "\u001b7\u001b[24;0f\u001b[42m\u001b[30mProgress: [  5%]\u001b[49m\u001b[39m [##........................................................] \u001b8Unpacking libgoogle-glog0v5 (0.3.5-1) ...\n",
            "Selecting previously unselected package libsnappy1v5:amd64.\n",
            "Preparing to unpack .../011-libsnappy1v5_1.1.6-4_amd64.deb ...\n",
            "Unpacking libsnappy1v5:amd64 (1.1.6-4) ...\n",
            "Selecting previously unselected package libleveldb1v5:amd64.\n",
            "Preparing to unpack .../012-libleveldb1v5_1.20-1_amd64.deb ...\n",
            "\u001b7\u001b[24;0f\u001b[42m\u001b[30mProgress: [  6%]\u001b[49m\u001b[39m [###.......................................................] \u001b8Unpacking libleveldb1v5:amd64 (1.20-1) ...\n",
            "Selecting previously unselected package liblmdb0:amd64.\n",
            "Preparing to unpack .../013-liblmdb0_0.9.21-1_amd64.deb ...\n",
            "Unpacking liblmdb0:amd64 (0.9.21-1) ...\n",
            "Selecting previously unselected package libtbb2:amd64.\n",
            "Preparing to unpack .../014-libtbb2_2017~U7-6_amd64.deb ...\n",
            "\u001b7\u001b[24;0f\u001b[42m\u001b[30mProgress: [  7%]\u001b[49m\u001b[39m [####......................................................] \u001b8Unpacking libtbb2:amd64 (2017~U7-6) ...\n",
            "Selecting previously unselected package libopencv-core3.1:amd64.\n",
            "Preparing to unpack .../015-libopencv-core3.1_3.1.0+dfsg1-1~exp1ubuntu3_amd64.deb ...\n",
            "Unpacking libopencv-core3.1:amd64 (3.1.0+dfsg1-1~exp1ubuntu3) ...\n",
            "Selecting previously unselected package libopencv-imgproc3.1:amd64.\n",
            "Preparing to unpack .../016-libopencv-imgproc3.1_3.1.0+dfsg1-1~exp1ubuntu3_amd64.deb ...\n",
            "\u001b7\u001b[24;0f\u001b[42m\u001b[30mProgress: [  8%]\u001b[49m\u001b[39m [####......................................................] \u001b8Unpacking libopencv-imgproc3.1:amd64 (3.1.0+dfsg1-1~exp1ubuntu3) ...\n",
            "Selecting previously unselected package gdal-data.\n",
            "Preparing to unpack .../017-gdal-data_2.2.1+dfsg-2build3_all.deb ...\n",
            "Unpacking gdal-data (2.2.1+dfsg-2build3) ...\n",
            "Selecting previously unselected package libarpack2:amd64.\n",
            "Preparing to unpack .../018-libarpack2_3.5.0+real-1_amd64.deb ...\n",
            "\u001b7\u001b[24;0f\u001b[42m\u001b[30mProgress: [  9%]\u001b[49m\u001b[39m [#####.....................................................] \u001b8Unpacking libarpack2:amd64 (3.5.0+real-1) ...\n",
            "Selecting previously unselected package libsuperlu5:amd64.\n",
            "Preparing to unpack .../019-libsuperlu5_5.2.1+dfsg1-2_amd64.deb ...\n",
            "Unpacking libsuperlu5:amd64 (5.2.1+dfsg1-2) ...\n",
            "Selecting previously unselected package libarmadillo7.\n",
            "Preparing to unpack .../020-libarmadillo7_1%3a7.960.1+dfsg-1_amd64.deb ...\n",
            "Unpacking libarmadillo7 (1:7.960.1+dfsg-1) ...\n",
            "\u001b7\u001b[24;0f\u001b[42m\u001b[30mProgress: [ 10%]\u001b[49m\u001b[39m [#####.....................................................] \u001b8Selecting previously unselected package libdap25:amd64.\n",
            "Preparing to unpack .../021-libdap25_3.19.0-1_amd64.deb ...\n",
            "Unpacking libdap25:amd64 (3.19.0-1) ...\n",
            "Selecting previously unselected package libdapclient6v5:amd64.\n",
            "Preparing to unpack .../022-libdapclient6v5_3.19.0-1_amd64.deb ...\n",
            "Unpacking libdapclient6v5:amd64 (3.19.0-1) ...\n",
            "\u001b7\u001b[24;0f\u001b[42m\u001b[30mProgress: [ 11%]\u001b[49m\u001b[39m [######....................................................] \u001b8Selecting previously unselected package libepsilon1:amd64.\n",
            "Preparing to unpack .../023-libepsilon1_0.9.2+dfsg-2_amd64.deb ...\n",
            "Unpacking libepsilon1:amd64 (0.9.2+dfsg-2) ...\n",
            "Selecting previously unselected package libfreexl1:amd64.\n",
            "Preparing to unpack .../024-libfreexl1_1.0.3-1_amd64.deb ...\n",
            "Unpacking libfreexl1:amd64 (1.0.3-1) ...\n",
            "\u001b7\u001b[24;0f\u001b[42m\u001b[30mProgress: [ 12%]\u001b[49m\u001b[39m [#######...................................................] \u001b8Selecting previously unselected package libfyba0:amd64.\n",
            "Preparing to unpack .../025-libfyba0_4.1.1-3_amd64.deb ...\n",
            "Unpacking libfyba0:amd64 (4.1.1-3) ...\n",
            "Selecting previously unselected package libgeos-3.5.1.\n",
            "Preparing to unpack .../026-libgeos-3.5.1_3.5.1-3_amd64.deb ...\n",
            "Unpacking libgeos-3.5.1 (3.5.1-3) ...\n",
            "\u001b7\u001b[24;0f\u001b[42m\u001b[30mProgress: [ 13%]\u001b[49m\u001b[39m [#######...................................................] \u001b8Selecting previously unselected package libgeos-c1v5.\n",
            "Preparing to unpack .../027-libgeos-c1v5_3.5.1-3_amd64.deb ...\n",
            "Unpacking libgeos-c1v5 (3.5.1-3) ...\n",
            "Selecting previously unselected package proj-data.\n",
            "Preparing to unpack .../028-proj-data_4.9.3-2_all.deb ...\n",
            "Unpacking proj-data (4.9.3-2) ...\n",
            "\u001b7\u001b[24;0f\u001b[42m\u001b[30mProgress: [ 14%]\u001b[49m\u001b[39m [########..................................................] \u001b8Selecting previously unselected package libproj12:amd64.\n",
            "Preparing to unpack .../029-libproj12_4.9.3-2_amd64.deb ...\n"
          ],
          "name": "stdout"
        },
        {
          "output_type": "stream",
          "text": [
            "Unpacking libproj12:amd64 (4.9.3-2) ...\n",
            "Selecting previously unselected package libtiff5:amd64.\n",
            "Preparing to unpack .../030-libtiff5_4.0.8-5ubuntu0.1_amd64.deb ...\n",
            "Unpacking libtiff5:amd64 (4.0.8-5ubuntu0.1) ...\n",
            "\u001b7\u001b[24;0f\u001b[42m\u001b[30mProgress: [ 15%]\u001b[49m\u001b[39m [########..................................................] \u001b8Selecting previously unselected package libgeotiff2:amd64.\n",
            "Preparing to unpack .../031-libgeotiff2_1.4.2-2build1_amd64.deb ...\n",
            "Unpacking libgeotiff2:amd64 (1.4.2-2build1) ...\n",
            "Selecting previously unselected package libgif7:amd64.\n",
            "Preparing to unpack .../032-libgif7_5.1.4-1_amd64.deb ...\n",
            "Unpacking libgif7:amd64 (5.1.4-1) ...\n",
            "\u001b7\u001b[24;0f\u001b[42m\u001b[30mProgress: [ 16%]\u001b[49m\u001b[39m [#########.................................................] \u001b8Selecting previously unselected package libhdf4-0-alt.\n",
            "Preparing to unpack .../033-libhdf4-0-alt_4.2.13-1_amd64.deb ...\n",
            "Unpacking libhdf4-0-alt (4.2.13-1) ...\n",
            "Selecting previously unselected package libminizip1:amd64.\n",
            "Preparing to unpack .../034-libminizip1_1.1-8_amd64.deb ...\n",
            "Unpacking libminizip1:amd64 (1.1-8) ...\n",
            "\u001b7\u001b[24;0f\u001b[42m\u001b[30mProgress: [ 17%]\u001b[49m\u001b[39m [#########.................................................] \u001b8Selecting previously unselected package liburiparser1:amd64.\n",
            "Preparing to unpack .../035-liburiparser1_0.8.4-1_amd64.deb ...\n",
            "Unpacking liburiparser1:amd64 (0.8.4-1) ...\n",
            "Selecting previously unselected package libkmlbase1:amd64.\n",
            "Preparing to unpack .../036-libkmlbase1_1.3.0-4_amd64.deb ...\n",
            "Unpacking libkmlbase1:amd64 (1.3.0-4) ...\n",
            "\u001b7\u001b[24;0f\u001b[42m\u001b[30mProgress: [ 18%]\u001b[49m\u001b[39m [##########................................................] \u001b8Selecting previously unselected package libkmldom1:amd64.\n",
            "Preparing to unpack .../037-libkmldom1_1.3.0-4_amd64.deb ...\n",
            "Unpacking libkmldom1:amd64 (1.3.0-4) ...\n",
            "Selecting previously unselected package libkmlengine1:amd64.\n",
            "Preparing to unpack .../038-libkmlengine1_1.3.0-4_amd64.deb ...\n",
            "Unpacking libkmlengine1:amd64 (1.3.0-4) ...\n",
            "\u001b7\u001b[24;0f\u001b[42m\u001b[30mProgress: [ 19%]\u001b[49m\u001b[39m [###########...............................................] \u001b8Selecting previously unselected package mysql-common.\n",
            "Preparing to unpack .../039-mysql-common_5.8+1.0.2ubuntu1_all.deb ...\n",
            "Unpacking mysql-common (5.8+1.0.2ubuntu1) ...\n",
            "Selecting previously unselected package libmysqlclient20:amd64.\n",
            "Preparing to unpack .../040-libmysqlclient20_5.7.22-0ubuntu0.17.10.1_amd64.deb ...\n",
            "Unpacking libmysqlclient20:amd64 (5.7.22-0ubuntu0.17.10.1) ...\n",
            "\u001b7\u001b[24;0f\u001b[42m\u001b[30mProgress: [ 20%]\u001b[49m\u001b[39m [###########...............................................] \u001b8Selecting previously unselected package libnetcdf11.\n",
            "Preparing to unpack .../041-libnetcdf11_1%3a4.4.1.1-2ubuntu1_amd64.deb ...\n",
            "Unpacking libnetcdf11 (1:4.4.1.1-2ubuntu1) ...\n",
            "Selecting previously unselected package libltdl7:amd64.\n",
            "Preparing to unpack .../042-libltdl7_2.4.6-2_amd64.deb ...\n",
            "Unpacking libltdl7:amd64 (2.4.6-2) ...\n",
            "\u001b7\u001b[24;0f\u001b[42m\u001b[30mProgress: [ 21%]\u001b[49m\u001b[39m [############..............................................] \u001b8Selecting previously unselected package libodbc1:amd64.\n",
            "Preparing to unpack .../043-libodbc1_2.3.4-1_amd64.deb ...\n",
            "Unpacking libodbc1:amd64 (2.3.4-1) ...\n",
            "Selecting previously unselected package libogdi3.2.\n",
            "Preparing to unpack .../044-libogdi3.2_3.2.0+ds-2_amd64.deb ...\n",
            "Unpacking libogdi3.2 (3.2.0+ds-2) ...\n",
            "\u001b7\u001b[24;0f\u001b[42m\u001b[30mProgress: [ 22%]\u001b[49m\u001b[39m [############..............................................] \u001b8Selecting previously unselected package libopenjp2-7:amd64.\n",
            "Preparing to unpack .../045-libopenjp2-7_2.2.0-1_amd64.deb ...\n",
            "Unpacking libopenjp2-7:amd64 (2.2.0-1) ...\n",
            "Selecting previously unselected package liblcms2-2:amd64.\n",
            "Preparing to unpack .../046-liblcms2-2_2.7-1ubuntu1_amd64.deb ...\n",
            "Unpacking liblcms2-2:amd64 (2.7-1ubuntu1) ...\n",
            "\u001b7\u001b[24;0f\u001b[42m\u001b[30mProgress: [ 23%]\u001b[49m\u001b[39m [#############.............................................] \u001b8Selecting previously unselected package libnspr4:amd64.\n",
            "Preparing to unpack .../047-libnspr4_2%3a4.16-1ubuntu2_amd64.deb ...\n",
            "Unpacking libnspr4:amd64 (2:4.16-1ubuntu2) ...\n",
            "Selecting previously unselected package libnss3:amd64.\n",
            "Preparing to unpack .../048-libnss3_2%3a3.32-1ubuntu3_amd64.deb ...\n",
            "Unpacking libnss3:amd64 (2:3.32-1ubuntu3) ...\n",
            "\u001b7\u001b[24;0f\u001b[42m\u001b[30mProgress: [ 24%]\u001b[49m\u001b[39m [#############.............................................] \u001b8Selecting previously unselected package libpoppler68:amd64.\n",
            "Preparing to unpack .../049-libpoppler68_0.57.0-2ubuntu4.3_amd64.deb ...\n",
            "Unpacking libpoppler68:amd64 (0.57.0-2ubuntu4.3) ...\n",
            "Selecting previously unselected package libpq5:amd64.\n",
            "Preparing to unpack .../050-libpq5_9.6.9-0ubuntu0.17.10_amd64.deb ...\n",
            "Unpacking libpq5:amd64 (9.6.9-0ubuntu0.17.10) ...\n",
            "\u001b7\u001b[24;0f\u001b[42m\u001b[30mProgress: [ 25%]\u001b[49m\u001b[39m [##############............................................] \u001b8Selecting previously unselected package libqhull7:amd64.\n",
            "Preparing to unpack .../051-libqhull7_2015.2-2_amd64.deb ...\n",
            "Unpacking libqhull7:amd64 (2015.2-2) ...\n",
            "Selecting previously unselected package libspatialite7:amd64.\n",
            "Preparing to unpack .../052-libspatialite7_4.3.0a-5build1_amd64.deb ...\n",
            "Unpacking libspatialite7:amd64 (4.3.0a-5build1) ...\n",
            "\u001b7\u001b[24;0f\u001b[42m\u001b[30mProgress: [ 26%]\u001b[49m\u001b[39m [###############...........................................] \u001b8Selecting previously unselected package libwebp6:amd64.\n",
            "Preparing to unpack .../053-libwebp6_0.6.0-3_amd64.deb ...\n"
          ],
          "name": "stdout"
        },
        {
          "output_type": "stream",
          "text": [
            "Unpacking libwebp6:amd64 (0.6.0-3) ...\n",
            "Selecting previously unselected package libxerces-c3.1:amd64.\n",
            "Preparing to unpack .../054-libxerces-c3.1_3.1.4+debian-2_amd64.deb ...\n",
            "Unpacking libxerces-c3.1:amd64 (3.1.4+debian-2) ...\n",
            "\u001b7\u001b[24;0f\u001b[42m\u001b[30mProgress: [ 27%]\u001b[49m\u001b[39m [###############...........................................] \u001b8Selecting previously unselected package odbcinst.\n",
            "Preparing to unpack .../055-odbcinst_2.3.4-1_amd64.deb ...\n",
            "Unpacking odbcinst (2.3.4-1) ...\n",
            "Selecting previously unselected package odbcinst1debian2:amd64.\n",
            "Preparing to unpack .../056-odbcinst1debian2_2.3.4-1_amd64.deb ...\n",
            "Unpacking odbcinst1debian2:amd64 (2.3.4-1) ...\n",
            "Selecting previously unselected package libgdal20.\n",
            "Preparing to unpack .../057-libgdal20_2.2.1+dfsg-2build3_amd64.deb ...\n",
            "\u001b7\u001b[24;0f\u001b[42m\u001b[30mProgress: [ 28%]\u001b[49m\u001b[39m [################..........................................] \u001b8Unpacking libgdal20 (2.2.1+dfsg-2build3) ...\n",
            "Selecting previously unselected package libilmbase12:amd64.\n",
            "Preparing to unpack .../058-libilmbase12_2.2.0-11ubuntu2_amd64.deb ...\n",
            "Unpacking libilmbase12:amd64 (2.2.0-11ubuntu2) ...\n",
            "Selecting previously unselected package libopenexr22:amd64.\n",
            "Preparing to unpack .../059-libopenexr22_2.2.0-11ubuntu1_amd64.deb ...\n",
            "\u001b7\u001b[24;0f\u001b[42m\u001b[30mProgress: [ 29%]\u001b[49m\u001b[39m [################..........................................] \u001b8Unpacking libopenexr22:amd64 (2.2.0-11ubuntu1) ...\n",
            "Selecting previously unselected package libopencv-imgcodecs3.1:amd64.\n",
            "Preparing to unpack .../060-libopencv-imgcodecs3.1_3.1.0+dfsg1-1~exp1ubuntu3_amd64.deb ...\n",
            "Unpacking libopencv-imgcodecs3.1:amd64 (3.1.0+dfsg1-1~exp1ubuntu3) ...\n",
            "Selecting previously unselected package libprotobuf10:amd64.\n",
            "Preparing to unpack .../061-libprotobuf10_3.0.0-9ubuntu5_amd64.deb ...\n",
            "\u001b7\u001b[24;0f\u001b[42m\u001b[30mProgress: [ 30%]\u001b[49m\u001b[39m [#################.........................................] \u001b8Unpacking libprotobuf10:amd64 (3.0.0-9ubuntu5) ...\n",
            "Selecting previously unselected package libcaffe-cuda1:amd64.\n",
            "Preparing to unpack .../062-libcaffe-cuda1_1.0.0-3build1_amd64.deb ...\n",
            "Unpacking libcaffe-cuda1:amd64 (1.0.0-3build1) ...\n",
            "Selecting previously unselected package caffe-tools-cuda.\n",
            "Preparing to unpack .../063-caffe-tools-cuda_1.0.0-3build1_amd64.deb ...\n",
            "\u001b7\u001b[24;0f\u001b[42m\u001b[30mProgress: [ 31%]\u001b[49m\u001b[39m [##################........................................] \u001b8Unpacking caffe-tools-cuda (1.0.0-3build1) ...\n",
            "Selecting previously unselected package cython3.\n",
            "Preparing to unpack .../064-cython3_0.25.2-2build3_amd64.deb ...\n",
            "Unpacking cython3 (0.25.2-2build3) ...\n",
            "Selecting previously unselected package python3-six.\n",
            "Preparing to unpack .../065-python3-six_1.10.0-4_all.deb ...\n",
            "\u001b7\u001b[24;0f\u001b[42m\u001b[30mProgress: [ 32%]\u001b[49m\u001b[39m [##################........................................] \u001b8Unpacking python3-six (1.10.0-4) ...\n",
            "Selecting previously unselected package python3-dateutil.\n",
            "Preparing to unpack .../066-python3-dateutil_2.6.0-1_all.deb ...\n",
            "Unpacking python3-dateutil (2.6.0-1) ...\n",
            "Selecting previously unselected package python3-gflags.\n",
            "Preparing to unpack .../067-python3-gflags_1.5.1-3_all.deb ...\n",
            "\u001b7\u001b[24;0f\u001b[42m\u001b[30mProgress: [ 33%]\u001b[49m\u001b[39m [###################.......................................] \u001b8Unpacking python3-gflags (1.5.1-3) ...\n",
            "Selecting previously unselected package python3-numpy.\n",
            "Preparing to unpack .../068-python3-numpy_1%3a1.12.1-3.1ubuntu4_amd64.deb ...\n",
            "Unpacking python3-numpy (1:1.12.1-3.1ubuntu4) ...\n",
            "Selecting previously unselected package python3-h5py.\n",
            "Preparing to unpack .../069-python3-h5py_2.7.1-2_amd64.deb ...\n",
            "\u001b7\u001b[24;0f\u001b[42m\u001b[30mProgress: [ 34%]\u001b[49m\u001b[39m [###################.......................................] \u001b8Unpacking python3-h5py (2.7.1-2) ...\n",
            "Selecting previously unselected package python3-decorator.\n",
            "Preparing to unpack .../070-python3-decorator_4.1.1-1_all.deb ...\n",
            "Unpacking python3-decorator (4.1.1-1) ...\n",
            "Selecting previously unselected package python3-ptyprocess.\n",
            "Preparing to unpack .../071-python3-ptyprocess_0.5.2-1_all.deb ...\n",
            "\u001b7\u001b[24;0f\u001b[42m\u001b[30mProgress: [ 35%]\u001b[49m\u001b[39m [####################......................................] \u001b8Unpacking python3-ptyprocess (0.5.2-1) ...\n",
            "Selecting previously unselected package python3-pexpect.\n",
            "Preparing to unpack .../072-python3-pexpect_4.2.1-1_all.deb ...\n",
            "Unpacking python3-pexpect (4.2.1-1) ...\n",
            "Selecting previously unselected package python3-pickleshare.\n",
            "Preparing to unpack .../073-python3-pickleshare_0.7.4-2_all.deb ...\n",
            "\u001b7\u001b[24;0f\u001b[42m\u001b[30mProgress: [ 36%]\u001b[49m\u001b[39m [####################......................................] \u001b8Unpacking python3-pickleshare (0.7.4-2) ...\n",
            "Selecting previously unselected package python3-pkg-resources.\n",
            "Preparing to unpack .../074-python3-pkg-resources_36.2.7-2_all.deb ...\n",
            "Unpacking python3-pkg-resources (36.2.7-2) ...\n",
            "Selecting previously unselected package python3-wcwidth.\n",
            "Preparing to unpack .../075-python3-wcwidth_0.1.7+dfsg1-1_all.deb ...\n",
            "Unpacking python3-wcwidth (0.1.7+dfsg1-1) ...\n",
            "\u001b7\u001b[24;0f\u001b[42m\u001b[30mProgress: [ 37%]\u001b[49m\u001b[39m [#####################.....................................] \u001b8Selecting previously unselected package python3-prompt-toolkit.\n",
            "Preparing to unpack .../076-python3-prompt-toolkit_1.0.14-1_all.deb ...\n",
            "Unpacking python3-prompt-toolkit (1.0.14-1) ...\n",
            "Selecting previously unselected package python3-pygments.\n",
            "Preparing to unpack .../077-python3-pygments_2.2.0+dfsg-1_all.deb ...\n",
            "Unpacking python3-pygments (2.2.0+dfsg-1) ...\n",
            "\u001b7\u001b[24;0f\u001b[42m\u001b[30mProgress: [ 38%]\u001b[49m\u001b[39m [######################....................................] \u001b8Selecting previously unselected package python3-simplegeneric.\n",
            "Preparing to unpack .../078-python3-simplegeneric_0.8.1-1_all.deb ...\n",
            "Unpacking python3-simplegeneric (0.8.1-1) ...\n"
          ],
          "name": "stdout"
        },
        {
          "output_type": "stream",
          "text": [
            "Selecting previously unselected package python3-ipython-genutils.\r\n",
            "Preparing to unpack .../079-python3-ipython-genutils_0.2.0-1_all.deb ...\r\n",
            "Unpacking python3-ipython-genutils (0.2.0-1) ...\n",
            "\u001b7\u001b[24;0f\u001b[42m\u001b[30mProgress: [ 39%]\u001b[49m\u001b[39m [######################....................................] \u001b8Selecting previously unselected package python3-traitlets.\n",
            "Preparing to unpack .../080-python3-traitlets_4.3.2-1_all.deb ...\n",
            "Unpacking python3-traitlets (4.3.2-1) ...\n",
            "Selecting previously unselected package python-ptyprocess.\n",
            "Preparing to unpack .../081-python-ptyprocess_0.5.2-1_all.deb ...\n",
            "Unpacking python-ptyprocess (0.5.2-1) ...\n",
            "\u001b7\u001b[24;0f\u001b[42m\u001b[30mProgress: [ 40%]\u001b[49m\u001b[39m [#######################...................................] \u001b8Selecting previously unselected package python-pexpect.\n",
            "Preparing to unpack .../082-python-pexpect_4.2.1-1_all.deb ...\n",
            "Unpacking python-pexpect (4.2.1-1) ...\n",
            "Selecting previously unselected package python3-ipython.\n",
            "Preparing to unpack .../083-python3-ipython_5.1.0-3_all.deb ...\n",
            "Unpacking python3-ipython (5.1.0-3) ...\n",
            "\u001b7\u001b[24;0f\u001b[42m\u001b[30mProgress: [ 41%]\u001b[49m\u001b[39m [#######################...................................] \u001b8Selecting previously unselected package python3-leveldb.\n",
            "Preparing to unpack .../084-python3-leveldb_0~svn68-3build3_amd64.deb ...\n",
            "Unpacking python3-leveldb (0~svn68-3build3) ...\n",
            "Selecting previously unselected package fonts-lyx.\n",
            "Preparing to unpack .../085-fonts-lyx_2.2.3-1_all.deb ...\n",
            "Unpacking fonts-lyx (2.2.3-1) ...\n",
            "\u001b7\u001b[24;0f\u001b[42m\u001b[30mProgress: [ 42%]\u001b[49m\u001b[39m [########################..................................] \u001b8Selecting previously unselected package ttf-bitstream-vera.\n",
            "Preparing to unpack .../086-ttf-bitstream-vera_1.10-8_all.deb ...\n",
            "Unpacking ttf-bitstream-vera (1.10-8) ...\n",
            "Selecting previously unselected package python-matplotlib-data.\n",
            "Preparing to unpack .../087-python-matplotlib-data_2.0.0+dfsg1-2ubuntu3_all.deb ...\n",
            "Unpacking python-matplotlib-data (2.0.0+dfsg1-2ubuntu3) ...\n",
            "\u001b7\u001b[24;0f\u001b[42m\u001b[30mProgress: [ 43%]\u001b[49m\u001b[39m [########################..................................] \u001b8Selecting previously unselected package python3-pyparsing.\n",
            "Preparing to unpack .../088-python3-pyparsing_2.1.10+dfsg1-1_all.deb ...\n",
            "Unpacking python3-pyparsing (2.1.10+dfsg1-1) ...\n",
            "Selecting previously unselected package python3-tz.\n",
            "Preparing to unpack .../089-python3-tz_2017.2-2_all.deb ...\n",
            "Unpacking python3-tz (2017.2-2) ...\n",
            "\u001b7\u001b[24;0f\u001b[42m\u001b[30mProgress: [ 44%]\u001b[49m\u001b[39m [#########################.................................] \u001b8Selecting previously unselected package libjs-jquery.\n",
            "Preparing to unpack .../090-libjs-jquery_3.1.1-2_all.deb ...\n",
            "Unpacking libjs-jquery (3.1.1-2) ...\n",
            "Selecting previously unselected package libjs-jquery-ui.\n",
            "Preparing to unpack .../091-libjs-jquery-ui_1.12.1+dfsg-5_all.deb ...\n",
            "Unpacking libjs-jquery-ui (1.12.1+dfsg-5) ...\n",
            "\u001b7\u001b[24;0f\u001b[42m\u001b[30mProgress: [ 45%]\u001b[49m\u001b[39m [##########################................................] \u001b8Selecting previously unselected package python3-cycler.\n",
            "Preparing to unpack .../092-python3-cycler_0.10.0-1_all.deb ...\n",
            "Unpacking python3-cycler (0.10.0-1) ...\n",
            "Selecting previously unselected package python3-matplotlib.\n",
            "Preparing to unpack .../093-python3-matplotlib_2.0.0+dfsg1-2ubuntu3_amd64.deb ...\n",
            "Unpacking python3-matplotlib (2.0.0+dfsg1-2ubuntu3) ...\n",
            "\u001b7\u001b[24;0f\u001b[42m\u001b[30mProgress: [ 46%]\u001b[49m\u001b[39m [##########################................................] \u001b8Selecting previously unselected package python3-networkx.\n",
            "Preparing to unpack .../094-python3-networkx_1.11-1ubuntu1_all.deb ...\n",
            "Unpacking python3-networkx (1.11-1ubuntu1) ...\n",
            "Selecting previously unselected package python3-nose.\n",
            "Preparing to unpack .../095-python3-nose_1.3.7-2_all.deb ...\n",
            "Unpacking python3-nose (1.3.7-2) ...\n",
            "\u001b7\u001b[24;0f\u001b[42m\u001b[30mProgress: [ 47%]\u001b[49m\u001b[39m [###########################...............................] \u001b8Selecting previously unselected package python3-pandas-lib.\n",
            "Preparing to unpack .../096-python3-pandas-lib_0.19.2-5.1ubuntu4_amd64.deb ...\n",
            "Unpacking python3-pandas-lib (0.19.2-5.1ubuntu4) ...\n",
            "Selecting previously unselected package python3-pandas.\n",
            "Preparing to unpack .../097-python3-pandas_0.19.2-5.1ubuntu4_all.deb ...\n",
            "Unpacking python3-pandas (0.19.2-5.1ubuntu4) ...\n",
            "\u001b7\u001b[24;0f\u001b[42m\u001b[30mProgress: [ 48%]\u001b[49m\u001b[39m [###########################...............................] \u001b8Selecting previously unselected package python3-olefile.\n",
            "Preparing to unpack .../098-python3-olefile_0.44-1_all.deb ...\n",
            "Unpacking python3-olefile (0.44-1) ...\n",
            "Selecting previously unselected package libwebpmux3:amd64.\n",
            "Preparing to unpack .../099-libwebpmux3_0.6.0-3_amd64.deb ...\n",
            "Unpacking libwebpmux3:amd64 (0.6.0-3) ...\n",
            "\u001b7\u001b[24;0f\u001b[42m\u001b[30mProgress: [ 49%]\u001b[49m\u001b[39m [############################..............................] \u001b8Selecting previously unselected package python3-pil:amd64.\n",
            "Preparing to unpack .../100-python3-pil_4.1.1-3build2_amd64.deb ...\n",
            "Unpacking python3-pil:amd64 (4.1.1-3build2) ...\n",
            "Selecting previously unselected package python3-protobuf.\n",
            "Preparing to unpack .../101-python3-protobuf_3.0.0-9ubuntu5_amd64.deb ...\n",
            "Unpacking python3-protobuf (3.0.0-9ubuntu5) ...\n",
            "\u001b7\u001b[24;0f\u001b[42m\u001b[30mProgress: [ 50%]\u001b[49m\u001b[39m [#############################.............................] \u001b8"
          ],
          "name": "stdout"
        },
        {
          "output_type": "stream",
          "text": [
            "Selecting previously unselected package python3-scipy.\r\n",
            "Preparing to unpack .../102-python3-scipy_0.18.1-2ubuntu5_amd64.deb ...\r\n",
            "Unpacking python3-scipy (0.18.1-2ubuntu5) ...\n",
            "Selecting previously unselected package python3-skimage-lib:amd64.\n",
            "Preparing to unpack .../103-python3-skimage-lib_0.13.0-0ubuntu4_amd64.deb ...\n",
            "Unpacking python3-skimage-lib:amd64 (0.13.0-0ubuntu4) ...\n",
            "\u001b7\u001b[24;0f\u001b[42m\u001b[30mProgress: [ 51%]\u001b[49m\u001b[39m [#############################.............................] \u001b8Selecting previously unselected package python3-pywt.\n",
            "Preparing to unpack .../104-python3-pywt_0.5.1-1.1ubuntu4_amd64.deb ...\n",
            "Unpacking python3-pywt (0.5.1-1.1ubuntu4) ...\n",
            "Selecting previously unselected package python3-skimage.\n",
            "Preparing to unpack .../105-python3-skimage_0.13.0-0ubuntu4_all.deb ...\n",
            "Unpacking python3-skimage (0.13.0-0ubuntu4) ...\n",
            "\u001b7\u001b[24;0f\u001b[42m\u001b[30mProgress: [ 52%]\u001b[49m\u001b[39m [##############################............................] \u001b8Selecting previously unselected package python3-caffe-cuda.\n",
            "Preparing to unpack .../106-python3-caffe-cuda_1.0.0-3build1_amd64.deb ...\n",
            "Unpacking python3-caffe-cuda (1.0.0-3build1) ...\n",
            "Selecting previously unselected package caffe-cuda.\n",
            "Preparing to unpack .../107-caffe-cuda_1.0.0-3build1_amd64.deb ...\n",
            "Unpacking caffe-cuda (1.0.0-3build1) ...\n",
            "\u001b7\u001b[24;0f\u001b[42m\u001b[30mProgress: [ 53%]\u001b[49m\u001b[39m [##############################............................] \u001b8Selecting previously unselected package javascript-common.\n",
            "Preparing to unpack .../108-javascript-common_11_all.deb ...\n",
            "Unpacking javascript-common (11) ...\n",
            "Selecting previously unselected package libzstd1.\n",
            "Preparing to unpack .../109-libzstd1_1.3.1+dfsg-1ubuntu0.1_amd64.deb ...\n",
            "Unpacking libzstd1 (1.3.1+dfsg-1ubuntu0.1) ...\n",
            "\u001b7\u001b[24;0f\u001b[42m\u001b[30mProgress: [ 54%]\u001b[49m\u001b[39m [###############################...........................] \u001b8Selecting previously unselected package libblosc1.\n",
            "Preparing to unpack .../110-libblosc1_1.11.1+ds2-2_amd64.deb ...\n",
            "Unpacking libblosc1 (1.11.1+ds2-2) ...\n",
            "Selecting previously unselected package libxslt1.1:amd64.\n",
            "Preparing to unpack .../111-libxslt1.1_1.1.29-2.1ubuntu1_amd64.deb ...\n",
            "Unpacking libxslt1.1:amd64 (1.1.29-2.1ubuntu1) ...\n",
            "Selecting previously unselected package python-tables-data.\n",
            "Preparing to unpack .../112-python-tables-data_3.3.0-5build4_all.deb ...\n",
            "\u001b7\u001b[24;0f\u001b[42m\u001b[30mProgress: [ 55%]\u001b[49m\u001b[39m [###############################...........................] \u001b8Unpacking python-tables-data (3.3.0-5build4) ...\n",
            "Selecting previously unselected package python3-bs4.\n",
            "Preparing to unpack .../113-python3-bs4_4.6.0-1_all.deb ...\n",
            "Unpacking python3-bs4 (4.6.0-1) ...\n",
            "Selecting previously unselected package python3-chardet.\n",
            "Preparing to unpack .../114-python3-chardet_3.0.4-1_all.deb ...\n",
            "\u001b7\u001b[24;0f\u001b[42m\u001b[30mProgress: [ 56%]\u001b[49m\u001b[39m [################################..........................] \u001b8Unpacking python3-chardet (3.0.4-1) ...\n",
            "Selecting previously unselected package python3-webencodings.\n",
            "Preparing to unpack .../115-python3-webencodings_0.5-2_all.deb ...\n",
            "Unpacking python3-webencodings (0.5-2) ...\n",
            "Selecting previously unselected package python3-html5lib.\n",
            "Preparing to unpack .../116-python3-html5lib_0.999999999-1_all.deb ...\n",
            "\u001b7\u001b[24;0f\u001b[42m\u001b[30mProgress: [ 57%]\u001b[49m\u001b[39m [#################################.........................] \u001b8Unpacking python3-html5lib (0.999999999-1) ...\n",
            "Selecting previously unselected package python3-lxml.\n",
            "Preparing to unpack .../117-python3-lxml_4.0.0-1_amd64.deb ...\n",
            "Unpacking python3-lxml (4.0.0-1) ...\n",
            "Selecting previously unselected package python3-numexpr.\n",
            "Preparing to unpack .../118-python3-numexpr_2.6.2-2_amd64.deb ...\n",
            "\u001b7\u001b[24;0f\u001b[42m\u001b[30mProgress: [ 58%]\u001b[49m\u001b[39m [#################################.........................] \u001b8Unpacking python3-numexpr (2.6.2-2) ...\n",
            "Selecting previously unselected package python3-tables-lib.\n",
            "Preparing to unpack .../119-python3-tables-lib_3.3.0-5build4_amd64.deb ...\n",
            "Unpacking python3-tables-lib (3.3.0-5build4) ...\n",
            "Selecting previously unselected package python3-tables.\n",
            "Preparing to unpack .../120-python3-tables_3.3.0-5build4_all.deb ...\n",
            "\u001b7\u001b[24;0f\u001b[42m\u001b[30mProgress: [ 59%]\u001b[49m\u001b[39m [##################################........................] \u001b8Unpacking python3-tables (3.3.0-5build4) ...\n",
            "Selecting previously unselected package proj-bin.\n",
            "Preparing to unpack .../121-proj-bin_4.9.3-2_amd64.deb ...\n",
            "Unpacking proj-bin (4.9.3-2) ...\n",
            "Setting up libminizip1:amd64 (1.1-8) ...\n",
            "\u001b7\u001b[24;0f\u001b[42m\u001b[30mProgress: [ 60%]\u001b[49m\u001b[39m [##################################........................] \u001b8Setting up libjs-jquery (3.1.1-2) ...\n",
            "Setting up libxerces-c3.1:amd64 (3.1.4+debian-2) ...\n",
            "Setting up python3-pickleshare (0.7.4-2) ...\n",
            "\u001b7\u001b[24;0f\u001b[42m\u001b[30mProgress: [ 61%]\u001b[49m\u001b[39m [###################################.......................] \u001b8Setting up libdap25:amd64 (3.19.0-1) ...\n",
            "Setting up libgflags2.2 (2.2.1-1) ...\n",
            "Setting up python3-simplegeneric (0.8.1-1) ...\n",
            "\u001b7\u001b[24;0f\u001b[42m\u001b[30mProgress: [ 62%]\u001b[49m\u001b[39m [###################################.......................] \u001b8Setting up libnetcdf11 (1:4.4.1.1-2ubuntu1) ...\n",
            "Setting up python3-webencodings (0.5-2) ...\n",
            "Setting up libopenjp2-7:amd64 (2.2.0-1) ...\n",
            "\u001b7\u001b[24;0f\u001b[42m\u001b[30mProgress: [ 63%]\u001b[49m\u001b[39m [####################################......................] \u001b8Setting up libqhull7:amd64 (2015.2-2) ...\n",
            "Setting up liblmdb0:amd64 (0.9.21-1) ...\n",
            "Setting up python3-olefile (0.44-1) ...\n"
          ],
          "name": "stdout"
        },
        {
          "output_type": "stream",
          "text": [
            "\u001b7\u001b[24;0f\u001b[42m\u001b[30mProgress: [ 64%]\u001b[49m\u001b[39m [#####################################.....................] \u001b8Setting up liblcms2-2:amd64 (2.7-1ubuntu1) ...\n",
            "Setting up libjbig0:amd64 (2.1-3.1) ...\n",
            "Setting up poppler-data (0.4.8-1) ...\n",
            "\u001b7\u001b[24;0f\u001b[42m\u001b[30mProgress: [ 65%]\u001b[49m\u001b[39m [#####################################.....................] \u001b8Setting up libjson-c3:amd64 (0.12.1-1.2) ...\n",
            "Setting up python3-numpy (1:1.12.1-3.1ubuntu4) ...\n",
            "Setting up libtbb2:amd64 (2017~U7-6) ...\n",
            "\u001b7\u001b[24;0f\u001b[42m\u001b[30mProgress: [ 66%]\u001b[49m\u001b[39m [######################################....................] \u001b8Setting up mysql-common (5.8+1.0.2ubuntu1) ...\n",
            "update-alternatives: using /etc/mysql/my.cnf.fallback to provide /etc/mysql/my.cnf (my.cnf) in auto mode\n",
            "Setting up python3-six (1.10.0-4) ...\n",
            "Setting up libzstd1 (1.3.1+dfsg-1ubuntu0.1) ...\n",
            "\u001b7\u001b[24;0f\u001b[42m\u001b[30mProgress: [ 67%]\u001b[49m\u001b[39m [######################################....................] \u001b8Setting up python3-pyparsing (2.1.10+dfsg1-1) ...\n",
            "Setting up python3-cycler (0.10.0-1) ...\n",
            "Setting up python-tables-data (3.3.0-5build4) ...\n",
            "\u001b7\u001b[24;0f\u001b[42m\u001b[30mProgress: [ 68%]\u001b[49m\u001b[39m [#######################################...................] \u001b8Setting up libtiff5:amd64 (4.0.8-5ubuntu0.1) ...\n",
            "Setting up libgif7:amd64 (5.1.4-1) ...\n",
            "Setting up libepsilon1:amd64 (0.9.2+dfsg-2) ...\n",
            "\u001b7\u001b[24;0f\u001b[42m\u001b[30mProgress: [ 69%]\u001b[49m\u001b[39m [########################################..................] \u001b8Setting up python3-pkg-resources (36.2.7-2) ...\n",
            "Setting up python3-bs4 (4.6.0-1) ...\n",
            "Setting up libsuperlu5:amd64 (5.2.1+dfsg1-2) ...\n",
            "\u001b7\u001b[24;0f\u001b[42m\u001b[30mProgress: [ 70%]\u001b[49m\u001b[39m [########################################..................] \u001b8Setting up libnspr4:amd64 (2:4.16-1ubuntu2) ...\n",
            "Setting up python3-gflags (1.5.1-3) ...\n",
            "update-alternatives: using /usr/bin/python3-gflags2man to provide /usr/bin/gflags2man (gflags2man) in auto mode\n",
            "Setting up python3-skimage-lib:amd64 (0.13.0-0ubuntu4) ...\n",
            "\u001b7\u001b[24;0f\u001b[42m\u001b[30mProgress: [ 71%]\u001b[49m\u001b[39m [#########################################.................] \u001b8Setting up libfreexl1:amd64 (1.0.3-1) ...\n",
            "Setting up python3-pandas-lib (0.19.2-5.1ubuntu4) ...\n",
            "Setting up libfyba0:amd64 (4.1.1-3) ...\n",
            "\u001b7\u001b[24;0f\u001b[42m\u001b[30mProgress: [ 72%]\u001b[49m\u001b[39m [#########################################.................] \u001b8Setting up python3-wcwidth (0.1.7+dfsg1-1) ...\n",
            "Setting up libxslt1.1:amd64 (1.1.29-2.1ubuntu1) ...\n",
            "Setting up libprotobuf10:amd64 (3.0.0-9ubuntu5) ...\n",
            "Setting up libdapclient6v5:amd64 (3.19.0-1) ...\n",
            "\u001b7\u001b[24;0f\u001b[42m\u001b[30mProgress: [ 73%]\u001b[49m\u001b[39m [##########################################................] \u001b8Setting up gdal-data (2.2.1+dfsg-2build3) ...\n",
            "Setting up libilmbase12:amd64 (2.2.0-11ubuntu2) ...\n",
            "Setting up libyaml-0-2:amd64 (0.1.7-2ubuntu3) ...\n",
            "\u001b7\u001b[24;0f\u001b[42m\u001b[30mProgress: [ 74%]\u001b[49m\u001b[39m [###########################################...............] \u001b8Setting up python3-protobuf (3.0.0-9ubuntu5) ...\n",
            "Setting up libpq5:amd64 (9.6.9-0ubuntu0.17.10) ...\n",
            "Setting up python-ptyprocess (0.5.2-1) ...\n",
            "\u001b7\u001b[24;0f\u001b[42m\u001b[30mProgress: [ 75%]\u001b[49m\u001b[39m [###########################################...............] \u001b8Processing triggers for libc-bin (2.26-0ubuntu2.1) ...\n",
            "Setting up python3-ipython-genutils (0.2.0-1) ...\n",
            "Setting up python3-nose (1.3.7-2) ...\n",
            "Setting up libgoogle-glog0v5 (0.3.5-1) ...\n",
            "\u001b7\u001b[24;0f\u001b[42m\u001b[30mProgress: [ 76%]\u001b[49m\u001b[39m [############################################..............] \u001b8Setting up python3-chardet (3.0.4-1) ...\n",
            "Setting up libsnappy1v5:amd64 (1.1.6-4) ...\n",
            "Setting up python3-html5lib (0.999999999-1) ...\n",
            "\u001b7\u001b[24;0f\u001b[42m\u001b[30mProgress: [ 77%]\u001b[49m\u001b[39m [############################################..............] \u001b8Setting up libjs-jquery-ui (1.12.1+dfsg-5) ...\n",
            "Setting up libltdl7:amd64 (2.4.6-2) ...\n",
            "Setting up ttf-bitstream-vera (1.10-8) ...\n",
            "\u001b7\u001b[24;0f\u001b[42m\u001b[30mProgress: [ 78%]\u001b[49m\u001b[39m [#############################################.............] \u001b8Setting up libarpack2:amd64 (3.5.0+real-1) ...\n",
            "Setting up cython3 (0.25.2-2build3) ...\n",
            "Setting up libboost-python1.62.0 (1.62.0+dfsg-4build3) ...\n",
            "\u001b7\u001b[24;0f\u001b[42m\u001b[30mProgress: [ 79%]\u001b[49m\u001b[39m [#############################################.............] \u001b8Setting up libmysqlclient20:amd64 (5.7.22-0ubuntu0.17.10.1) ...\n",
            "Setting up python3-pywt (0.5.1-1.1ubuntu4) ...\n",
            "Setting up javascript-common (11) ...\n",
            "\u001b7\u001b[24;0f\u001b[42m\u001b[30mProgress: [ 80%]\u001b[49m\u001b[39m [##############################################............] \u001b8Setting up libhdf4-0-alt (4.2.13-1) ...\n",
            "Setting up python3-decorator (4.1.1-1) ...\n",
            "Setting up python3-traitlets (4.3.2-1) ...\n",
            "\u001b7\u001b[24;0f\u001b[42m\u001b[30mProgress: [ 81%]\u001b[49m\u001b[39m [##############################################............] \u001b8Setting up python3-ptyprocess (0.5.2-1) ...\n",
            "Setting up python3-tz (2017.2-2) ...\n",
            "Setting up libboost-system1.62.0:amd64 (1.62.0+dfsg-4build3) ...\n",
            "\u001b7\u001b[24;0f\u001b[42m\u001b[30mProgress: [ 82%]\u001b[49m\u001b[39m [###############################################...........] \u001b8Setting up libgeos-3.5.1 (3.5.1-3) ...\n",
            "Setting up liblzo2-2:amd64 (2.08-1.2) ...\n"
          ],
          "name": "stdout"
        },
        {
          "output_type": "stream",
          "text": [
            "Setting up liburiparser1:amd64 (0.8.4-1) ...\r\n",
            "\u001b7\u001b[24;0f\u001b[42m\u001b[30mProgress: [ 83%]\u001b[49m\u001b[39m [################################################..........] \u001b8Setting up python3-dateutil (2.6.0-1) ...\n",
            "Setting up python3-h5py (2.7.1-2) ...\n",
            "Setting up fonts-lyx (2.2.3-1) ...\n",
            "\u001b7\u001b[24;0f\u001b[42m\u001b[30mProgress: [ 84%]\u001b[49m\u001b[39m [################################################..........] \u001b8Setting up proj-data (4.9.3-2) ...\n",
            "Setting up libwebp6:amd64 (0.6.0-3) ...\n",
            "Setting up python3-pygments (2.2.0+dfsg-1) ...\n",
            "\u001b7\u001b[24;0f\u001b[42m\u001b[30mProgress: [ 85%]\u001b[49m\u001b[39m [#################################################.........] \u001b8Setting up python3-yaml (3.12-1build2) ...\n",
            "Setting up libblosc1 (1.11.1+ds2-2) ...\n",
            "Setting up libproj12:amd64 (4.9.3-2) ...\n",
            "\u001b7\u001b[24;0f\u001b[42m\u001b[30mProgress: [ 86%]\u001b[49m\u001b[39m [#################################################.........] \u001b8Setting up python3-scipy (0.18.1-2ubuntu5) ...\n",
            "Setting up python3-prompt-toolkit (1.0.14-1) ...\n",
            "Setting up libodbc1:amd64 (2.3.4-1) ...\n",
            "\u001b7\u001b[24;0f\u001b[42m\u001b[30mProgress: [ 87%]\u001b[49m\u001b[39m [##################################################........] \u001b8Setting up python3-tables-lib (3.3.0-5build4) ...\n",
            "Setting up python-matplotlib-data (2.0.0+dfsg1-2ubuntu3) ...\n",
            "Setting up python3-lxml (4.0.0-1) ...\n",
            "\u001b7\u001b[24;0f\u001b[42m\u001b[30mProgress: [ 88%]\u001b[49m\u001b[39m [###################################################.......] \u001b8Setting up libopencv-core3.1:amd64 (3.1.0+dfsg1-1~exp1ubuntu3) ...\n",
            "Setting up python3-numexpr (2.6.2-2) ...\n",
            "Setting up libboost-thread1.62.0:amd64 (1.62.0+dfsg-4build3) ...\n",
            "\u001b7\u001b[24;0f\u001b[42m\u001b[30mProgress: [ 89%]\u001b[49m\u001b[39m [###################################################.......] \u001b8Setting up libnss3:amd64 (2:3.32-1ubuntu3) ...\n",
            "Setting up python3-tables (3.3.0-5build4) ...\n",
            "Setting up python-pexpect (4.2.1-1) ...\n",
            "\u001b7\u001b[24;0f\u001b[42m\u001b[30mProgress: [ 90%]\u001b[49m\u001b[39m [####################################################......] \u001b8Setting up libarmadillo7 (1:7.960.1+dfsg-1) ...\n",
            "Setting up libopenexr22:amd64 (2.2.0-11ubuntu1) ...\n",
            "Setting up libkmlbase1:amd64 (1.3.0-4) ...\n",
            "Setting up libleveldb1v5:amd64 (1.20-1) ...\n",
            "\u001b7\u001b[24;0f\u001b[42m\u001b[30mProgress: [ 91%]\u001b[49m\u001b[39m [####################################################......] \u001b8Setting up libogdi3.2 (3.2.0+ds-2) ...\n",
            "Setting up libgeos-c1v5 (3.5.1-3) ...\n",
            "Setting up proj-bin (4.9.3-2) ...\n",
            "\u001b7\u001b[24;0f\u001b[42m\u001b[30mProgress: [ 92%]\u001b[49m\u001b[39m [#####################################################.....] \u001b8Setting up python3-pexpect (4.2.1-1) ...\n",
            "Setting up python3-networkx (1.11-1ubuntu1) ...\n",
            "Setting up libwebpmux3:amd64 (0.6.0-3) ...\n",
            "\u001b7\u001b[24;0f\u001b[42m\u001b[30mProgress: [ 93%]\u001b[49m\u001b[39m [######################################################....] \u001b8Setting up libopencv-imgproc3.1:amd64 (3.1.0+dfsg1-1~exp1ubuntu3) ...\n",
            "Setting up libgeotiff2:amd64 (1.4.2-2build1) ...\n",
            "Setting up libspatialite7:amd64 (4.3.0a-5build1) ...\n",
            "\u001b7\u001b[24;0f\u001b[42m\u001b[30mProgress: [ 94%]\u001b[49m\u001b[39m [######################################################....] \u001b8Setting up libkmldom1:amd64 (1.3.0-4) ...\n",
            "Setting up python3-pandas (0.19.2-5.1ubuntu4) ...\n",
            "Setting up python3-matplotlib (2.0.0+dfsg1-2ubuntu3) ...\n",
            "\u001b7\u001b[24;0f\u001b[42m\u001b[30mProgress: [ 95%]\u001b[49m\u001b[39m [#######################################################...] \u001b8Setting up libpoppler68:amd64 (0.57.0-2ubuntu4.3) ...\n",
            "Setting up python3-leveldb (0~svn68-3build3) ...\n",
            "Setting up python3-pil:amd64 (4.1.1-3build2) ...\n",
            "\u001b7\u001b[24;0f\u001b[42m\u001b[30mProgress: [ 96%]\u001b[49m\u001b[39m [#######################################################...] \u001b8Setting up python3-ipython (5.1.0-3) ...\n",
            "Setting up libkmlengine1:amd64 (1.3.0-4) ...\n",
            "Setting up python3-skimage (0.13.0-0ubuntu4) ...\n",
            "\u001b7\u001b[24;0f\u001b[42m\u001b[30mProgress: [ 97%]\u001b[49m\u001b[39m [########################################################..] \u001b8Setting up odbcinst1debian2:amd64 (2.3.4-1) ...\n",
            "Setting up odbcinst (2.3.4-1) ...\n",
            "Setting up libgdal20 (2.2.1+dfsg-2build3) ...\n",
            "\u001b7\u001b[24;0f\u001b[42m\u001b[30mProgress: [ 98%]\u001b[49m\u001b[39m [########################################################..] \u001b8Setting up libopencv-imgcodecs3.1:amd64 (3.1.0+dfsg1-1~exp1ubuntu3) ...\n",
            "Setting up libcaffe-cuda1:amd64 (1.0.0-3build1) ...\n",
            "Setting up python3-caffe-cuda (1.0.0-3build1) ...\n",
            "\u001b7\u001b[24;0f\u001b[42m\u001b[30mProgress: [ 99%]\u001b[49m\u001b[39m [#########################################################.] \u001b8Setting up caffe-tools-cuda (1.0.0-3build1) ...\n",
            "Setting up caffe-cuda (1.0.0-3build1) ...\n",
            "Processing triggers for libc-bin (2.26-0ubuntu2.1) ...\n",
            "\n",
            "\u001b7\u001b[0;24r\u001b8\u001b[1A\u001b[J"
          ],
          "name": "stdout"
        }
      ]
    },
    {
      "metadata": {
        "id": "hOdWzOreazSn",
        "colab_type": "code",
        "colab": {}
      },
      "cell_type": "code",
      "source": [
        "import caffe"
      ],
      "execution_count": 0,
      "outputs": []
    },
    {
      "metadata": {
        "id": "DS3uwuQXcna0",
        "colab_type": "code",
        "colab": {}
      },
      "cell_type": "code",
      "source": [
        "caffe.set_device(0)\n",
        "caffe.set_mode_gpu()"
      ],
      "execution_count": 0,
      "outputs": []
    },
    {
      "metadata": {
        "id": "_q8ctgVic7oo",
        "colab_type": "code",
        "colab": {}
      },
      "cell_type": "code",
      "source": [
        ""
      ],
      "execution_count": 0,
      "outputs": []
    }
  ]
}